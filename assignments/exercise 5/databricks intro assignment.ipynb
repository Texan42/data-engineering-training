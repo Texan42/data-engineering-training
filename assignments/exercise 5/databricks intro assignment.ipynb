{
 "cells": [
  {
   "cell_type": "code",
   "execution_count": 0,
   "metadata": {
    "application/vnd.databricks.v1+cell": {
     "cellMetadata": {
      "byteLimit": 2048000,
      "rowLimit": 10000
     },
     "inputWidgets": {},
     "nuid": "79122e67-7ef6-4c51-944b-13c5ebad1a9b",
     "showTitle": false,
     "title": ""
    }
   },
   "outputs": [],
   "source": [
    "from pyspark.sql.functions import split, year"
   ]
  },
  {
   "cell_type": "code",
   "execution_count": 0,
   "metadata": {
    "application/vnd.databricks.v1+cell": {
     "cellMetadata": {
      "byteLimit": 2048000,
      "rowLimit": 10000
     },
     "inputWidgets": {},
     "nuid": "8b0260ef-125f-41ef-bb5d-bb7aa9200ab0",
     "showTitle": false,
     "title": ""
    }
   },
   "outputs": [
    {
     "output_type": "stream",
     "name": "stdout",
     "output_type": "stream",
     "text": [
      "root\n |-- Poster_Link: string (nullable = true)\n |-- Series_Title: string (nullable = true)\n |-- Released_Year: string (nullable = true)\n |-- Certificate: string (nullable = true)\n |-- Runtime: string (nullable = true)\n |-- Genre: string (nullable = true)\n |-- IMDB_Rating: double (nullable = true)\n |-- Overview: string (nullable = true)\n |-- Meta_score: string (nullable = true)\n |-- Director: string (nullable = true)\n |-- Star1: string (nullable = true)\n |-- Star2: string (nullable = true)\n |-- Star3: string (nullable = true)\n |-- Star4: string (nullable = true)\n |-- No_of_Votes: string (nullable = true)\n |-- Gross: string (nullable = true)\n\n+--------------------+--------------------+-------------+-----------+-------+--------------------+-----------+--------------------+----------+--------------------+-----------------+--------------------+-----------------+----------------+-----------+-----------+\n|         Poster_Link|        Series_Title|Released_Year|Certificate|Runtime|               Genre|IMDB_Rating|            Overview|Meta_score|            Director|            Star1|               Star2|            Star3|           Star4|No_of_Votes|      Gross|\n+--------------------+--------------------+-------------+-----------+-------+--------------------+-----------+--------------------+----------+--------------------+-----------------+--------------------+-----------------+----------------+-----------+-----------+\n|https://m.media-a...|The Shawshank Red...|         1994|          A|142 min|               Drama|        9.3|Two imprisoned me...|        80|      Frank Darabont|      Tim Robbins|      Morgan Freeman|       Bob Gunton|  William Sadler|    2343110| 28,341,469|\n|https://m.media-a...|       The Godfather|         1972|          A|175 min|        Crime, Drama|        9.2|An organized crim...|       100|Francis Ford Coppola|    Marlon Brando|           Al Pacino|       James Caan|    Diane Keaton|    1620367|134,966,411|\n|https://m.media-a...|     The Dark Knight|         2008|         UA|152 min|Action, Crime, Drama|        9.0|When the menace k...|        84|   Christopher Nolan|   Christian Bale|        Heath Ledger|    Aaron Eckhart|   Michael Caine|    2303232|534,858,444|\n|https://m.media-a...|The Godfather: Pa...|         1974|          A|202 min|        Crime, Drama|        9.0|The early life an...|        90|Francis Ford Coppola|        Al Pacino|      Robert De Niro|    Robert Duvall|    Diane Keaton|    1129952| 57,300,000|\n|https://m.media-a...|        12 Angry Men|         1957|          U| 96 min|        Crime, Drama|        9.0|A jury holdout at...|        96|        Sidney Lumet|      Henry Fonda|         Lee J. Cobb|    Martin Balsam|    John Fiedler|     689845|  4,360,000|\n|https://m.media-a...|The Lord of the R...|         2003|          U|201 min|Action, Adventure...|        8.9|Gandalf and Arago...|        94|       Peter Jackson|      Elijah Wood|     Viggo Mortensen|     Ian McKellen|   Orlando Bloom|    1642758|377,845,905|\n|https://m.media-a...|        Pulp Fiction|         1994|          A|154 min|        Crime, Drama|        8.9|The lives of two ...|        94|   Quentin Tarantino|    John Travolta|         Uma Thurman|Samuel L. Jackson|    Bruce Willis|    1826188|107,928,762|\n|https://m.media-a...|    Schindler's List|         1993|          A|195 min|Biography, Drama,...|        8.9|In German-occupie...|        94|    Steven Spielberg|      Liam Neeson|       Ralph Fiennes|     Ben Kingsley|Caroline Goodall|    1213505| 96,898,818|\n|https://m.media-a...|           Inception|         2010|         UA|148 min|Action, Adventure...|        8.8|A thief who steal...|        74|   Christopher Nolan|Leonardo DiCaprio|Joseph Gordon-Levitt|      Elliot Page|    Ken Watanabe|    2067042|292,576,195|\n|https://m.media-a...|          Fight Club|         1999|          A|139 min|               Drama|        8.8|An insomniac offi...|        66|       David Fincher|        Brad Pitt|       Edward Norton|        Meat Loaf|    Zach Grenier|    1854740| 37,030,102|\n+--------------------+--------------------+-------------+-----------+-------+--------------------+-----------+--------------------+----------+--------------------+-----------------+--------------------+-----------------+----------------+-----------+-----------+\nonly showing top 10 rows\n\n"
     ]
    }
   ],
   "source": [
    "#1\n",
    "df = spark.read.csv('dbfs:/mnt/20240729de/imdb_top_1000.csv', header=True, inferSchema=True)\n",
    "\n",
    "df.printSchema()\n",
    "df.show(10)"
   ]
  },
  {
   "cell_type": "code",
   "execution_count": 0,
   "metadata": {
    "application/vnd.databricks.v1+cell": {
     "cellMetadata": {
      "byteLimit": 2048000,
      "rowLimit": 10000
     },
     "inputWidgets": {},
     "nuid": "9eb102aa-4469-4fc3-a32a-213a2d0f567c",
     "showTitle": false,
     "title": ""
    }
   },
   "outputs": [
    {
     "output_type": "stream",
     "name": "stdout",
     "output_type": "stream",
     "text": [
      "+--------------------+--------------------+-------------+-----------+-------+--------------------+-----------+--------------------+----------+--------------------+------------------+--------------------+------------------+--------------------+-----------+-----------+\n|         Poster_Link|        Series_Title|Released_Year|Certificate|Runtime|               Genre|IMDB_Rating|            Overview|Meta_score|            Director|             Star1|               Star2|             Star3|               Star4|No_of_Votes|      Gross|\n+--------------------+--------------------+-------------+-----------+-------+--------------------+-----------+--------------------+----------+--------------------+------------------+--------------------+------------------+--------------------+-----------+-----------+\n|https://m.media-a...|The Shawshank Red...|         1994|          A|142 min|               Drama|        9.3|Two imprisoned me...|        80|      Frank Darabont|       Tim Robbins|      Morgan Freeman|        Bob Gunton|      William Sadler|    2343110| 28,341,469|\n|https://m.media-a...|       The Godfather|         1972|          A|175 min|        Crime, Drama|        9.2|An organized crim...|       100|Francis Ford Coppola|     Marlon Brando|           Al Pacino|        James Caan|        Diane Keaton|    1620367|134,966,411|\n|https://m.media-a...|     The Dark Knight|         2008|         UA|152 min|Action, Crime, Drama|        9.0|When the menace k...|        84|   Christopher Nolan|    Christian Bale|        Heath Ledger|     Aaron Eckhart|       Michael Caine|    2303232|534,858,444|\n|https://m.media-a...|The Godfather: Pa...|         1974|          A|202 min|        Crime, Drama|        9.0|The early life an...|        90|Francis Ford Coppola|         Al Pacino|      Robert De Niro|     Robert Duvall|        Diane Keaton|    1129952| 57,300,000|\n|https://m.media-a...|        12 Angry Men|         1957|          U| 96 min|        Crime, Drama|        9.0|A jury holdout at...|        96|        Sidney Lumet|       Henry Fonda|         Lee J. Cobb|     Martin Balsam|        John Fiedler|     689845|  4,360,000|\n|https://m.media-a...|The Lord of the R...|         2003|          U|201 min|Action, Adventure...|        8.9|Gandalf and Arago...|        94|       Peter Jackson|       Elijah Wood|     Viggo Mortensen|      Ian McKellen|       Orlando Bloom|    1642758|377,845,905|\n|https://m.media-a...|        Pulp Fiction|         1994|          A|154 min|        Crime, Drama|        8.9|The lives of two ...|        94|   Quentin Tarantino|     John Travolta|         Uma Thurman| Samuel L. Jackson|        Bruce Willis|    1826188|107,928,762|\n|https://m.media-a...|    Schindler's List|         1993|          A|195 min|Biography, Drama,...|        8.9|In German-occupie...|        94|    Steven Spielberg|       Liam Neeson|       Ralph Fiennes|      Ben Kingsley|    Caroline Goodall|    1213505| 96,898,818|\n|https://m.media-a...|           Inception|         2010|         UA|148 min|Action, Adventure...|        8.8|A thief who steal...|        74|   Christopher Nolan| Leonardo DiCaprio|Joseph Gordon-Levitt|       Elliot Page|        Ken Watanabe|    2067042|292,576,195|\n|https://m.media-a...|          Fight Club|         1999|          A|139 min|               Drama|        8.8|An insomniac offi...|        66|       David Fincher|         Brad Pitt|       Edward Norton|         Meat Loaf|        Zach Grenier|    1854740| 37,030,102|\n|https://m.media-a...|The Lord of the R...|         2001|          U|178 min|Action, Adventure...|        8.8|A meek Hobbit fro...|        92|       Peter Jackson|       Elijah Wood|        Ian McKellen|     Orlando Bloom|           Sean Bean|    1661481|315,544,750|\n|https://m.media-a...|        Forrest Gump|         1994|         UA|142 min|      Drama, Romance|        8.8|The presidencies ...|        82|     Robert Zemeckis|         Tom Hanks|        Robin Wright|       Gary Sinise|         Sally Field|    1809221|330,252,182|\n|https://m.media-a...|Il buono, il brut...|         1966|          A|161 min|             Western|        8.8|A bounty hunting ...|        90|        Sergio Leone|    Clint Eastwood|         Eli Wallach|     Lee Van Cleef|        Aldo Giuffrè|     688390|  6,100,000|\n|https://m.media-a...|The Lord of the R...|         2002|         UA|179 min|Action, Adventure...|        8.7|While Frodo and S...|        87|       Peter Jackson|       Elijah Wood|        Ian McKellen|   Viggo Mortensen|       Orlando Bloom|    1485555|342,551,365|\n|https://m.media-a...|          The Matrix|         1999|          A|136 min|      Action, Sci-Fi|        8.7|When a beautiful ...|        73|      Lana Wachowski|   Lilly Wachowski|        Keanu Reeves|Laurence Fishburne|    Carrie-Anne Moss|    1676426|171,479,930|\n|https://m.media-a...|          Goodfellas|         1990|          A|146 min|Biography, Crime,...|        8.7|The story of Henr...|        90|     Martin Scorsese|    Robert De Niro|          Ray Liotta|         Joe Pesci|     Lorraine Bracco|    1020727| 46,836,394|\n|https://m.media-a...|Star Wars: Episod...|         1980|         UA|124 min|Action, Adventure...|        8.7|After the Rebels ...|        82|      Irvin Kershner|       Mark Hamill|       Harrison Ford|     Carrie Fisher|  Billy Dee Williams|    1159315|290,475,067|\n|https://m.media-a...|One Flew Over the...|         1975|          A|133 min|               Drama|        8.7|A criminal pleads...|        83|        Milos Forman|    Jack Nicholson|     Louise Fletcher|  Michael Berryman|        Peter Brocco|     918088|112,000,000|\n|https://m.media-a...|            Hamilton|         2020|      PG-13|160 min|Biography, Drama,...|        8.6|The real life of ...|        90|         Thomas Kail|Lin-Manuel Miranda|        Phillipa Soo|   Leslie Odom Jr.|Renée Elise Golds...|      55291|       NULL|\n|https://m.media-a...|        Gisaengchung|         2019|          A|132 min|Comedy, Drama, Th...|        8.6|Greed and class d...|        96|        Bong Joon Ho|      Kang-ho Song|        Lee Sun-kyun|     Cho Yeo-jeong|        Choi Woo-sik|     552778| 53,367,844|\n+--------------------+--------------------+-------------+-----------+-------+--------------------+-----------+--------------------+----------+--------------------+------------------+--------------------+------------------+--------------------+-----------+-----------+\nonly showing top 20 rows\n\n"
     ]
    }
   ],
   "source": [
    "#2\n",
    "#filtering dataframe\n",
    "filterDf = df.filter(df.IMDB_Rating > 8.0)\n",
    "#show filtered data\n",
    "filterDf.show()"
   ]
  },
  {
   "cell_type": "code",
   "execution_count": 0,
   "metadata": {
    "application/vnd.databricks.v1+cell": {
     "cellMetadata": {
      "byteLimit": 2048000,
      "rowLimit": 10000
     },
     "inputWidgets": {},
     "nuid": "0039e9ba-b266-4a06-b385-b040b62634c6",
     "showTitle": false,
     "title": ""
    }
   },
   "outputs": [
    {
     "output_type": "stream",
     "name": "stdout",
     "output_type": "stream",
     "text": [
      "+--------------------+-----------+\n|        Series_Title|IMDB_Rating|\n+--------------------+-----------+\n|The Shawshank Red...|        9.3|\n|       The Godfather|        9.2|\n|     The Dark Knight|        9.0|\n|The Godfather: Pa...|        9.0|\n|        12 Angry Men|        9.0|\n|The Lord of the R...|        8.9|\n|        Pulp Fiction|        8.9|\n|    Schindler's List|        8.9|\n|           Inception|        8.8|\n|          Fight Club|        8.8|\n|The Lord of the R...|        8.8|\n|        Forrest Gump|        8.8|\n|Il buono, il brut...|        8.8|\n|The Lord of the R...|        8.7|\n|          The Matrix|        8.7|\n|          Goodfellas|        8.7|\n|Star Wars: Episod...|        8.7|\n|One Flew Over the...|        8.7|\n|            Hamilton|        8.6|\n|        Gisaengchung|        8.6|\n+--------------------+-----------+\nonly showing top 20 rows\n\n"
     ]
    }
   ],
   "source": [
    "#3\n",
    "#selecting cols\n",
    "selectDf = df.select('Series_Title', 'IMDB_Rating')\n",
    "#show selected\n",
    "selectDf.show()"
   ]
  },
  {
   "cell_type": "code",
   "execution_count": 0,
   "metadata": {
    "application/vnd.databricks.v1+cell": {
     "cellMetadata": {
      "byteLimit": 2048000,
      "rowLimit": 10000
     },
     "inputWidgets": {},
     "nuid": "fa78f26a-b7de-4513-b73f-17a7fea33277",
     "showTitle": false,
     "title": ""
    }
   },
   "outputs": [
    {
     "output_type": "stream",
     "name": "stdout",
     "output_type": "stream",
     "text": [
      "+--------------------+--------------------+-------------+-----------+-------+--------------------+-----------+--------------------+----------+--------------------+------------------+--------------------+------------------+--------------------+-----------+-----------+-----------------+\n|         Poster_Link|        Series_Title|Released_Year|Certificate|Runtime|               Genre|IMDB_Rating|            Overview|Meta_score|            Director|             Star1|               Star2|             Star3|               Star4|No_of_Votes|      Gross|discounted_rating|\n+--------------------+--------------------+-------------+-----------+-------+--------------------+-----------+--------------------+----------+--------------------+------------------+--------------------+------------------+--------------------+-----------+-----------+-----------------+\n|https://m.media-a...|The Shawshank Red...|         1994|          A|142 min|               Drama|        9.3|Two imprisoned me...|        80|      Frank Darabont|       Tim Robbins|      Morgan Freeman|        Bob Gunton|      William Sadler|    2343110| 28,341,469|8.370000000000001|\n|https://m.media-a...|       The Godfather|         1972|          A|175 min|        Crime, Drama|        9.2|An organized crim...|       100|Francis Ford Coppola|     Marlon Brando|           Al Pacino|        James Caan|        Diane Keaton|    1620367|134,966,411|             8.28|\n|https://m.media-a...|     The Dark Knight|         2008|         UA|152 min|Action, Crime, Drama|        9.0|When the menace k...|        84|   Christopher Nolan|    Christian Bale|        Heath Ledger|     Aaron Eckhart|       Michael Caine|    2303232|534,858,444|              8.1|\n|https://m.media-a...|The Godfather: Pa...|         1974|          A|202 min|        Crime, Drama|        9.0|The early life an...|        90|Francis Ford Coppola|         Al Pacino|      Robert De Niro|     Robert Duvall|        Diane Keaton|    1129952| 57,300,000|              8.1|\n|https://m.media-a...|        12 Angry Men|         1957|          U| 96 min|        Crime, Drama|        9.0|A jury holdout at...|        96|        Sidney Lumet|       Henry Fonda|         Lee J. Cobb|     Martin Balsam|        John Fiedler|     689845|  4,360,000|              8.1|\n|https://m.media-a...|The Lord of the R...|         2003|          U|201 min|Action, Adventure...|        8.9|Gandalf and Arago...|        94|       Peter Jackson|       Elijah Wood|     Viggo Mortensen|      Ian McKellen|       Orlando Bloom|    1642758|377,845,905|             8.01|\n|https://m.media-a...|        Pulp Fiction|         1994|          A|154 min|        Crime, Drama|        8.9|The lives of two ...|        94|   Quentin Tarantino|     John Travolta|         Uma Thurman| Samuel L. Jackson|        Bruce Willis|    1826188|107,928,762|             8.01|\n|https://m.media-a...|    Schindler's List|         1993|          A|195 min|Biography, Drama,...|        8.9|In German-occupie...|        94|    Steven Spielberg|       Liam Neeson|       Ralph Fiennes|      Ben Kingsley|    Caroline Goodall|    1213505| 96,898,818|             8.01|\n|https://m.media-a...|           Inception|         2010|         UA|148 min|Action, Adventure...|        8.8|A thief who steal...|        74|   Christopher Nolan| Leonardo DiCaprio|Joseph Gordon-Levitt|       Elliot Page|        Ken Watanabe|    2067042|292,576,195|7.920000000000001|\n|https://m.media-a...|          Fight Club|         1999|          A|139 min|               Drama|        8.8|An insomniac offi...|        66|       David Fincher|         Brad Pitt|       Edward Norton|         Meat Loaf|        Zach Grenier|    1854740| 37,030,102|7.920000000000001|\n|https://m.media-a...|The Lord of the R...|         2001|          U|178 min|Action, Adventure...|        8.8|A meek Hobbit fro...|        92|       Peter Jackson|       Elijah Wood|        Ian McKellen|     Orlando Bloom|           Sean Bean|    1661481|315,544,750|7.920000000000001|\n|https://m.media-a...|        Forrest Gump|         1994|         UA|142 min|      Drama, Romance|        8.8|The presidencies ...|        82|     Robert Zemeckis|         Tom Hanks|        Robin Wright|       Gary Sinise|         Sally Field|    1809221|330,252,182|7.920000000000001|\n|https://m.media-a...|Il buono, il brut...|         1966|          A|161 min|             Western|        8.8|A bounty hunting ...|        90|        Sergio Leone|    Clint Eastwood|         Eli Wallach|     Lee Van Cleef|        Aldo Giuffrè|     688390|  6,100,000|7.920000000000001|\n|https://m.media-a...|The Lord of the R...|         2002|         UA|179 min|Action, Adventure...|        8.7|While Frodo and S...|        87|       Peter Jackson|       Elijah Wood|        Ian McKellen|   Viggo Mortensen|       Orlando Bloom|    1485555|342,551,365|7.829999999999999|\n|https://m.media-a...|          The Matrix|         1999|          A|136 min|      Action, Sci-Fi|        8.7|When a beautiful ...|        73|      Lana Wachowski|   Lilly Wachowski|        Keanu Reeves|Laurence Fishburne|    Carrie-Anne Moss|    1676426|171,479,930|7.829999999999999|\n|https://m.media-a...|          Goodfellas|         1990|          A|146 min|Biography, Crime,...|        8.7|The story of Henr...|        90|     Martin Scorsese|    Robert De Niro|          Ray Liotta|         Joe Pesci|     Lorraine Bracco|    1020727| 46,836,394|7.829999999999999|\n|https://m.media-a...|Star Wars: Episod...|         1980|         UA|124 min|Action, Adventure...|        8.7|After the Rebels ...|        82|      Irvin Kershner|       Mark Hamill|       Harrison Ford|     Carrie Fisher|  Billy Dee Williams|    1159315|290,475,067|7.829999999999999|\n|https://m.media-a...|One Flew Over the...|         1975|          A|133 min|               Drama|        8.7|A criminal pleads...|        83|        Milos Forman|    Jack Nicholson|     Louise Fletcher|  Michael Berryman|        Peter Brocco|     918088|112,000,000|7.829999999999999|\n|https://m.media-a...|            Hamilton|         2020|      PG-13|160 min|Biography, Drama,...|        8.6|The real life of ...|        90|         Thomas Kail|Lin-Manuel Miranda|        Phillipa Soo|   Leslie Odom Jr.|Renée Elise Golds...|      55291|       NULL|             7.74|\n|https://m.media-a...|        Gisaengchung|         2019|          A|132 min|Comedy, Drama, Th...|        8.6|Greed and class d...|        96|        Bong Joon Ho|      Kang-ho Song|        Lee Sun-kyun|     Cho Yeo-jeong|        Choi Woo-sik|     552778| 53,367,844|             7.74|\n+--------------------+--------------------+-------------+-----------+-------+--------------------+-----------+--------------------+----------+--------------------+------------------+--------------------+------------------+--------------------+-----------+-----------+-----------------+\nonly showing top 20 rows\n\n"
     ]
    }
   ],
   "source": [
    "#4\n",
    "#create discounted column\n",
    "df = df.withColumn('discounted_rating', df.IMDB_Rating * 0.9)\n",
    "#show updated df\n",
    "df.show()"
   ]
  },
  {
   "cell_type": "code",
   "execution_count": 0,
   "metadata": {
    "application/vnd.databricks.v1+cell": {
     "cellMetadata": {
      "byteLimit": 2048000,
      "rowLimit": 10000
     },
     "inputWidgets": {},
     "nuid": "f6c25638-45da-41ca-92c9-1d9958f9bf06",
     "showTitle": false,
     "title": ""
    }
   },
   "outputs": [
    {
     "output_type": "stream",
     "name": "stdout",
     "output_type": "stream",
     "text": [
      "+--------------------+------------------+\n|               Genre|  avg(IMDB_Rating)|\n+--------------------+------------------+\n|    Action, Thriller| 7.866666666666667|\n|Animation, Comedy...|               7.7|\n|     Crime, Thriller| 7.966666666666666|\n|Action, Adventure...| 8.199999999999998|\n|   Adventure, Sci-Fi|              8.15|\n|Drama, Fantasy, H...|               8.2|\n|Animation, Advent...|               8.1|\n|Animation, Biogra...|               7.8|\n|Animation, Advent...| 7.957142857142857|\n|Action, Adventure...|               7.9|\n|Comedy, Crime, My...|               8.0|\n|Adventure, Biogra...|               7.8|\n|       Comedy, Drama| 7.871428571428573|\n|Biography, Drama,...| 7.822222222222221|\n|Comedy, Drama, Ro...|7.8774193548387075|\n|       Action, Drama|              7.94|\n|Drama, Romance, T...|              7.85|\n|Drama, Mystery, S...| 8.040000000000001|\n|Comedy, Family, R...|               7.8|\n|Adventure, Drama,...|7.8999999999999995|\n+--------------------+------------------+\nonly showing top 20 rows\n\n"
     ]
    }
   ],
   "source": [
    "#5\n",
    "#group by genre, average rating\n",
    "groupDf = df.groupBy('Genre').avg('IMDB_Rating')\n",
    "#show groupDf\n",
    "groupDf.show()"
   ]
  },
  {
   "cell_type": "code",
   "execution_count": 0,
   "metadata": {
    "application/vnd.databricks.v1+cell": {
     "cellMetadata": {
      "byteLimit": 2048000,
      "rowLimit": 10000
     },
     "inputWidgets": {},
     "nuid": "319d54f1-8256-4ece-9675-f69699832674",
     "showTitle": false,
     "title": ""
    }
   },
   "outputs": [
    {
     "output_type": "stream",
     "name": "stdout",
     "output_type": "stream",
     "text": [
      "+--------------------+--------------------+-------------+-----------+-------+--------------------+-----------+--------------------+----------+--------------------+------------------+--------------------+------------------+--------------------+-----------+-----------+-----------------+-------------+---------------+\n|         Poster_Link|        Series_Title|Released_Year|Certificate|Runtime|               Genre|IMDB_Rating|            Overview|Meta_score|            Director|             Star1|               Star2|             Star3|               Star4|No_of_Votes|      Gross|discounted_rating|primary_genre|secondary_genre|\n+--------------------+--------------------+-------------+-----------+-------+--------------------+-----------+--------------------+----------+--------------------+------------------+--------------------+------------------+--------------------+-----------+-----------+-----------------+-------------+---------------+\n|https://m.media-a...|The Shawshank Red...|         1994|          A|142 min|               Drama|        9.3|Two imprisoned me...|        80|      Frank Darabont|       Tim Robbins|      Morgan Freeman|        Bob Gunton|      William Sadler|    2343110| 28,341,469|8.370000000000001|        Drama|           NULL|\n|https://m.media-a...|       The Godfather|         1972|          A|175 min|        Crime, Drama|        9.2|An organized crim...|       100|Francis Ford Coppola|     Marlon Brando|           Al Pacino|        James Caan|        Diane Keaton|    1620367|134,966,411|             8.28|        Crime|          Drama|\n|https://m.media-a...|     The Dark Knight|         2008|         UA|152 min|Action, Crime, Drama|        9.0|When the menace k...|        84|   Christopher Nolan|    Christian Bale|        Heath Ledger|     Aaron Eckhart|       Michael Caine|    2303232|534,858,444|              8.1|       Action|          Crime|\n|https://m.media-a...|The Godfather: Pa...|         1974|          A|202 min|        Crime, Drama|        9.0|The early life an...|        90|Francis Ford Coppola|         Al Pacino|      Robert De Niro|     Robert Duvall|        Diane Keaton|    1129952| 57,300,000|              8.1|        Crime|          Drama|\n|https://m.media-a...|        12 Angry Men|         1957|          U| 96 min|        Crime, Drama|        9.0|A jury holdout at...|        96|        Sidney Lumet|       Henry Fonda|         Lee J. Cobb|     Martin Balsam|        John Fiedler|     689845|  4,360,000|              8.1|        Crime|          Drama|\n|https://m.media-a...|The Lord of the R...|         2003|          U|201 min|Action, Adventure...|        8.9|Gandalf and Arago...|        94|       Peter Jackson|       Elijah Wood|     Viggo Mortensen|      Ian McKellen|       Orlando Bloom|    1642758|377,845,905|             8.01|       Action|      Adventure|\n|https://m.media-a...|        Pulp Fiction|         1994|          A|154 min|        Crime, Drama|        8.9|The lives of two ...|        94|   Quentin Tarantino|     John Travolta|         Uma Thurman| Samuel L. Jackson|        Bruce Willis|    1826188|107,928,762|             8.01|        Crime|          Drama|\n|https://m.media-a...|    Schindler's List|         1993|          A|195 min|Biography, Drama,...|        8.9|In German-occupie...|        94|    Steven Spielberg|       Liam Neeson|       Ralph Fiennes|      Ben Kingsley|    Caroline Goodall|    1213505| 96,898,818|             8.01|    Biography|          Drama|\n|https://m.media-a...|           Inception|         2010|         UA|148 min|Action, Adventure...|        8.8|A thief who steal...|        74|   Christopher Nolan| Leonardo DiCaprio|Joseph Gordon-Levitt|       Elliot Page|        Ken Watanabe|    2067042|292,576,195|7.920000000000001|       Action|      Adventure|\n|https://m.media-a...|          Fight Club|         1999|          A|139 min|               Drama|        8.8|An insomniac offi...|        66|       David Fincher|         Brad Pitt|       Edward Norton|         Meat Loaf|        Zach Grenier|    1854740| 37,030,102|7.920000000000001|        Drama|           NULL|\n|https://m.media-a...|The Lord of the R...|         2001|          U|178 min|Action, Adventure...|        8.8|A meek Hobbit fro...|        92|       Peter Jackson|       Elijah Wood|        Ian McKellen|     Orlando Bloom|           Sean Bean|    1661481|315,544,750|7.920000000000001|       Action|      Adventure|\n|https://m.media-a...|        Forrest Gump|         1994|         UA|142 min|      Drama, Romance|        8.8|The presidencies ...|        82|     Robert Zemeckis|         Tom Hanks|        Robin Wright|       Gary Sinise|         Sally Field|    1809221|330,252,182|7.920000000000001|        Drama|        Romance|\n|https://m.media-a...|Il buono, il brut...|         1966|          A|161 min|             Western|        8.8|A bounty hunting ...|        90|        Sergio Leone|    Clint Eastwood|         Eli Wallach|     Lee Van Cleef|        Aldo Giuffrè|     688390|  6,100,000|7.920000000000001|      Western|           NULL|\n|https://m.media-a...|The Lord of the R...|         2002|         UA|179 min|Action, Adventure...|        8.7|While Frodo and S...|        87|       Peter Jackson|       Elijah Wood|        Ian McKellen|   Viggo Mortensen|       Orlando Bloom|    1485555|342,551,365|7.829999999999999|       Action|      Adventure|\n|https://m.media-a...|          The Matrix|         1999|          A|136 min|      Action, Sci-Fi|        8.7|When a beautiful ...|        73|      Lana Wachowski|   Lilly Wachowski|        Keanu Reeves|Laurence Fishburne|    Carrie-Anne Moss|    1676426|171,479,930|7.829999999999999|       Action|         Sci-Fi|\n|https://m.media-a...|          Goodfellas|         1990|          A|146 min|Biography, Crime,...|        8.7|The story of Henr...|        90|     Martin Scorsese|    Robert De Niro|          Ray Liotta|         Joe Pesci|     Lorraine Bracco|    1020727| 46,836,394|7.829999999999999|    Biography|          Crime|\n|https://m.media-a...|Star Wars: Episod...|         1980|         UA|124 min|Action, Adventure...|        8.7|After the Rebels ...|        82|      Irvin Kershner|       Mark Hamill|       Harrison Ford|     Carrie Fisher|  Billy Dee Williams|    1159315|290,475,067|7.829999999999999|       Action|      Adventure|\n|https://m.media-a...|One Flew Over the...|         1975|          A|133 min|               Drama|        8.7|A criminal pleads...|        83|        Milos Forman|    Jack Nicholson|     Louise Fletcher|  Michael Berryman|        Peter Brocco|     918088|112,000,000|7.829999999999999|        Drama|           NULL|\n|https://m.media-a...|            Hamilton|         2020|      PG-13|160 min|Biography, Drama,...|        8.6|The real life of ...|        90|         Thomas Kail|Lin-Manuel Miranda|        Phillipa Soo|   Leslie Odom Jr.|Renée Elise Golds...|      55291|       NULL|             7.74|    Biography|          Drama|\n|https://m.media-a...|        Gisaengchung|         2019|          A|132 min|Comedy, Drama, Th...|        8.6|Greed and class d...|        96|        Bong Joon Ho|      Kang-ho Song|        Lee Sun-kyun|     Cho Yeo-jeong|        Choi Woo-sik|     552778| 53,367,844|             7.74|       Comedy|          Drama|\n+--------------------+--------------------+-------------+-----------+-------+--------------------+-----------+--------------------+----------+--------------------+------------------+--------------------+------------------+--------------------+-----------+-----------+-----------------+-------------+---------------+\nonly showing top 20 rows\n\n"
     ]
    }
   ],
   "source": [
    "#6\n",
    "#split genre into 2 columns\n",
    "df = df.withColumn('primary_genre', split(df['Genre'], ', ')[0])\n",
    "df = df.withColumn('secondary_genre', split(df['Genre'], ', ')[1])\n",
    "\n",
    "#show df\n",
    "df.show()"
   ]
  },
  {
   "cell_type": "code",
   "execution_count": 0,
   "metadata": {
    "application/vnd.databricks.v1+cell": {
     "cellMetadata": {
      "byteLimit": 2048000,
      "rowLimit": 10000
     },
     "inputWidgets": {},
     "nuid": "1cf0b0d2-5310-4571-a8b0-5bc5f3c919f6",
     "showTitle": false,
     "title": ""
    }
   },
   "outputs": [
    {
     "output_type": "stream",
     "name": "stdout",
     "output_type": "stream",
     "text": [
      "+--------------------+--------------------+-------------+-----------+-------+--------------------+-----------+--------------------+----------+--------------------+------------------+--------------------+------------------+--------------------+-----------+-----------+-----------------+-------------+---------------+----+\n|         Poster_Link|        Series_Title|Released_Year|Certificate|Runtime|               Genre|IMDB_Rating|            Overview|Meta_score|            Director|             Star1|               Star2|             Star3|               Star4|No_of_Votes|      Gross|discounted_rating|primary_genre|secondary_genre|year|\n+--------------------+--------------------+-------------+-----------+-------+--------------------+-----------+--------------------+----------+--------------------+------------------+--------------------+------------------+--------------------+-----------+-----------+-----------------+-------------+---------------+----+\n|https://m.media-a...|The Shawshank Red...|         1994|          A|142 min|               Drama|        9.3|Two imprisoned me...|        80|      Frank Darabont|       Tim Robbins|      Morgan Freeman|        Bob Gunton|      William Sadler|    2343110| 28,341,469|8.370000000000001|        Drama|           NULL|1994|\n|https://m.media-a...|       The Godfather|         1972|          A|175 min|        Crime, Drama|        9.2|An organized crim...|       100|Francis Ford Coppola|     Marlon Brando|           Al Pacino|        James Caan|        Diane Keaton|    1620367|134,966,411|             8.28|        Crime|          Drama|1972|\n|https://m.media-a...|     The Dark Knight|         2008|         UA|152 min|Action, Crime, Drama|        9.0|When the menace k...|        84|   Christopher Nolan|    Christian Bale|        Heath Ledger|     Aaron Eckhart|       Michael Caine|    2303232|534,858,444|              8.1|       Action|          Crime|2008|\n|https://m.media-a...|The Godfather: Pa...|         1974|          A|202 min|        Crime, Drama|        9.0|The early life an...|        90|Francis Ford Coppola|         Al Pacino|      Robert De Niro|     Robert Duvall|        Diane Keaton|    1129952| 57,300,000|              8.1|        Crime|          Drama|1974|\n|https://m.media-a...|        12 Angry Men|         1957|          U| 96 min|        Crime, Drama|        9.0|A jury holdout at...|        96|        Sidney Lumet|       Henry Fonda|         Lee J. Cobb|     Martin Balsam|        John Fiedler|     689845|  4,360,000|              8.1|        Crime|          Drama|1957|\n|https://m.media-a...|The Lord of the R...|         2003|          U|201 min|Action, Adventure...|        8.9|Gandalf and Arago...|        94|       Peter Jackson|       Elijah Wood|     Viggo Mortensen|      Ian McKellen|       Orlando Bloom|    1642758|377,845,905|             8.01|       Action|      Adventure|2003|\n|https://m.media-a...|        Pulp Fiction|         1994|          A|154 min|        Crime, Drama|        8.9|The lives of two ...|        94|   Quentin Tarantino|     John Travolta|         Uma Thurman| Samuel L. Jackson|        Bruce Willis|    1826188|107,928,762|             8.01|        Crime|          Drama|1994|\n|https://m.media-a...|    Schindler's List|         1993|          A|195 min|Biography, Drama,...|        8.9|In German-occupie...|        94|    Steven Spielberg|       Liam Neeson|       Ralph Fiennes|      Ben Kingsley|    Caroline Goodall|    1213505| 96,898,818|             8.01|    Biography|          Drama|1993|\n|https://m.media-a...|           Inception|         2010|         UA|148 min|Action, Adventure...|        8.8|A thief who steal...|        74|   Christopher Nolan| Leonardo DiCaprio|Joseph Gordon-Levitt|       Elliot Page|        Ken Watanabe|    2067042|292,576,195|7.920000000000001|       Action|      Adventure|2010|\n|https://m.media-a...|          Fight Club|         1999|          A|139 min|               Drama|        8.8|An insomniac offi...|        66|       David Fincher|         Brad Pitt|       Edward Norton|         Meat Loaf|        Zach Grenier|    1854740| 37,030,102|7.920000000000001|        Drama|           NULL|1999|\n|https://m.media-a...|The Lord of the R...|         2001|          U|178 min|Action, Adventure...|        8.8|A meek Hobbit fro...|        92|       Peter Jackson|       Elijah Wood|        Ian McKellen|     Orlando Bloom|           Sean Bean|    1661481|315,544,750|7.920000000000001|       Action|      Adventure|2001|\n|https://m.media-a...|        Forrest Gump|         1994|         UA|142 min|      Drama, Romance|        8.8|The presidencies ...|        82|     Robert Zemeckis|         Tom Hanks|        Robin Wright|       Gary Sinise|         Sally Field|    1809221|330,252,182|7.920000000000001|        Drama|        Romance|1994|\n|https://m.media-a...|Il buono, il brut...|         1966|          A|161 min|             Western|        8.8|A bounty hunting ...|        90|        Sergio Leone|    Clint Eastwood|         Eli Wallach|     Lee Van Cleef|        Aldo Giuffrè|     688390|  6,100,000|7.920000000000001|      Western|           NULL|1966|\n|https://m.media-a...|The Lord of the R...|         2002|         UA|179 min|Action, Adventure...|        8.7|While Frodo and S...|        87|       Peter Jackson|       Elijah Wood|        Ian McKellen|   Viggo Mortensen|       Orlando Bloom|    1485555|342,551,365|7.829999999999999|       Action|      Adventure|2002|\n|https://m.media-a...|          The Matrix|         1999|          A|136 min|      Action, Sci-Fi|        8.7|When a beautiful ...|        73|      Lana Wachowski|   Lilly Wachowski|        Keanu Reeves|Laurence Fishburne|    Carrie-Anne Moss|    1676426|171,479,930|7.829999999999999|       Action|         Sci-Fi|1999|\n|https://m.media-a...|          Goodfellas|         1990|          A|146 min|Biography, Crime,...|        8.7|The story of Henr...|        90|     Martin Scorsese|    Robert De Niro|          Ray Liotta|         Joe Pesci|     Lorraine Bracco|    1020727| 46,836,394|7.829999999999999|    Biography|          Crime|1990|\n|https://m.media-a...|Star Wars: Episod...|         1980|         UA|124 min|Action, Adventure...|        8.7|After the Rebels ...|        82|      Irvin Kershner|       Mark Hamill|       Harrison Ford|     Carrie Fisher|  Billy Dee Williams|    1159315|290,475,067|7.829999999999999|       Action|      Adventure|1980|\n|https://m.media-a...|One Flew Over the...|         1975|          A|133 min|               Drama|        8.7|A criminal pleads...|        83|        Milos Forman|    Jack Nicholson|     Louise Fletcher|  Michael Berryman|        Peter Brocco|     918088|112,000,000|7.829999999999999|        Drama|           NULL|1975|\n|https://m.media-a...|            Hamilton|         2020|      PG-13|160 min|Biography, Drama,...|        8.6|The real life of ...|        90|         Thomas Kail|Lin-Manuel Miranda|        Phillipa Soo|   Leslie Odom Jr.|Renée Elise Golds...|      55291|       NULL|             7.74|    Biography|          Drama|2020|\n|https://m.media-a...|        Gisaengchung|         2019|          A|132 min|Comedy, Drama, Th...|        8.6|Greed and class d...|        96|        Bong Joon Ho|      Kang-ho Song|        Lee Sun-kyun|     Cho Yeo-jeong|        Choi Woo-sik|     552778| 53,367,844|             7.74|       Comedy|          Drama|2019|\n+--------------------+--------------------+-------------+-----------+-------+--------------------+-----------+--------------------+----------+--------------------+------------------+--------------------+------------------+--------------------+-----------+-----------+-----------------+-------------+---------------+----+\nonly showing top 20 rows\n\n"
     ]
    }
   ],
   "source": [
    "#7\n",
    "#create a new column with year\n",
    "df = df.withColumn('year', year(df['Released_Year']))\n",
    "\n",
    "#show df\n",
    "df.show()"
   ]
  },
  {
   "cell_type": "code",
   "execution_count": 0,
   "metadata": {
    "application/vnd.databricks.v1+cell": {
     "cellMetadata": {
      "byteLimit": 2048000,
      "rowLimit": 10000
     },
     "inputWidgets": {},
     "nuid": "ed4c128a-795e-43b9-8398-1794d81aee88",
     "showTitle": false,
     "title": ""
    }
   },
   "outputs": [
    {
     "output_type": "stream",
     "name": "stdout",
     "output_type": "stream",
     "text": [
      "+--------------------+--------------------+-------------+-----------+-------+--------------------+-----------+--------------------+----------+--------------------+------------------+--------------------+------------------+--------------------+-----------+-----------+-----------------+-------------+---------------+----+\n|         Poster_Link|        Series_Title|Released_Year|Certificate|Runtime|               Genre|IMDB_Rating|            Overview|Meta_score|            Director|             Star1|               Star2|             Star3|               Star4|No_of_Votes|      Gross|discounted_rating|primary_genre|secondary_genre|year|\n+--------------------+--------------------+-------------+-----------+-------+--------------------+-----------+--------------------+----------+--------------------+------------------+--------------------+------------------+--------------------+-----------+-----------+-----------------+-------------+---------------+----+\n|https://m.media-a...|The Shawshank Red...|         1994|          A|142 min|               Drama|        9.3|Two imprisoned me...|        80|      Frank Darabont|       Tim Robbins|      Morgan Freeman|        Bob Gunton|      William Sadler|    2343110| 28,341,469|8.370000000000001|        Drama|           NULL|1994|\n|https://m.media-a...|       The Godfather|         1972|          A|175 min|        Crime, Drama|        9.2|An organized crim...|       100|Francis Ford Coppola|     Marlon Brando|           Al Pacino|        James Caan|        Diane Keaton|    1620367|134,966,411|             8.28|        Crime|          Drama|1972|\n|https://m.media-a...|     The Dark Knight|         2008|         UA|152 min|Action, Crime, Drama|        9.0|When the menace k...|        84|   Christopher Nolan|    Christian Bale|        Heath Ledger|     Aaron Eckhart|       Michael Caine|    2303232|534,858,444|              8.1|       Action|          Crime|2008|\n|https://m.media-a...|The Godfather: Pa...|         1974|          A|202 min|        Crime, Drama|        9.0|The early life an...|        90|Francis Ford Coppola|         Al Pacino|      Robert De Niro|     Robert Duvall|        Diane Keaton|    1129952| 57,300,000|              8.1|        Crime|          Drama|1974|\n|https://m.media-a...|        12 Angry Men|         1957|          U| 96 min|        Crime, Drama|        9.0|A jury holdout at...|        96|        Sidney Lumet|       Henry Fonda|         Lee J. Cobb|     Martin Balsam|        John Fiedler|     689845|  4,360,000|              8.1|        Crime|          Drama|1957|\n|https://m.media-a...|The Lord of the R...|         2003|          U|201 min|Action, Adventure...|        8.9|Gandalf and Arago...|        94|       Peter Jackson|       Elijah Wood|     Viggo Mortensen|      Ian McKellen|       Orlando Bloom|    1642758|377,845,905|             8.01|       Action|      Adventure|2003|\n|https://m.media-a...|        Pulp Fiction|         1994|          A|154 min|        Crime, Drama|        8.9|The lives of two ...|        94|   Quentin Tarantino|     John Travolta|         Uma Thurman| Samuel L. Jackson|        Bruce Willis|    1826188|107,928,762|             8.01|        Crime|          Drama|1994|\n|https://m.media-a...|    Schindler's List|         1993|          A|195 min|Biography, Drama,...|        8.9|In German-occupie...|        94|    Steven Spielberg|       Liam Neeson|       Ralph Fiennes|      Ben Kingsley|    Caroline Goodall|    1213505| 96,898,818|             8.01|    Biography|          Drama|1993|\n|https://m.media-a...|          Fight Club|         1999|          A|139 min|               Drama|        8.8|An insomniac offi...|        66|       David Fincher|         Brad Pitt|       Edward Norton|         Meat Loaf|        Zach Grenier|    1854740| 37,030,102|7.920000000000001|        Drama|           NULL|1999|\n|https://m.media-a...|        Forrest Gump|         1994|         UA|142 min|      Drama, Romance|        8.8|The presidencies ...|        82|     Robert Zemeckis|         Tom Hanks|        Robin Wright|       Gary Sinise|         Sally Field|    1809221|330,252,182|7.920000000000001|        Drama|        Romance|1994|\n|https://m.media-a...|           Inception|         2010|         UA|148 min|Action, Adventure...|        8.8|A thief who steal...|        74|   Christopher Nolan| Leonardo DiCaprio|Joseph Gordon-Levitt|       Elliot Page|        Ken Watanabe|    2067042|292,576,195|7.920000000000001|       Action|      Adventure|2010|\n|https://m.media-a...|Il buono, il brut...|         1966|          A|161 min|             Western|        8.8|A bounty hunting ...|        90|        Sergio Leone|    Clint Eastwood|         Eli Wallach|     Lee Van Cleef|        Aldo Giuffrè|     688390|  6,100,000|7.920000000000001|      Western|           NULL|1966|\n|https://m.media-a...|The Lord of the R...|         2001|          U|178 min|Action, Adventure...|        8.8|A meek Hobbit fro...|        92|       Peter Jackson|       Elijah Wood|        Ian McKellen|     Orlando Bloom|           Sean Bean|    1661481|315,544,750|7.920000000000001|       Action|      Adventure|2001|\n|https://m.media-a...|The Lord of the R...|         2002|         UA|179 min|Action, Adventure...|        8.7|While Frodo and S...|        87|       Peter Jackson|       Elijah Wood|        Ian McKellen|   Viggo Mortensen|       Orlando Bloom|    1485555|342,551,365|7.829999999999999|       Action|      Adventure|2002|\n|https://m.media-a...|Star Wars: Episod...|         1980|         UA|124 min|Action, Adventure...|        8.7|After the Rebels ...|        82|      Irvin Kershner|       Mark Hamill|       Harrison Ford|     Carrie Fisher|  Billy Dee Williams|    1159315|290,475,067|7.829999999999999|       Action|      Adventure|1980|\n|https://m.media-a...|One Flew Over the...|         1975|          A|133 min|               Drama|        8.7|A criminal pleads...|        83|        Milos Forman|    Jack Nicholson|     Louise Fletcher|  Michael Berryman|        Peter Brocco|     918088|112,000,000|7.829999999999999|        Drama|           NULL|1975|\n|https://m.media-a...|          The Matrix|         1999|          A|136 min|      Action, Sci-Fi|        8.7|When a beautiful ...|        73|      Lana Wachowski|   Lilly Wachowski|        Keanu Reeves|Laurence Fishburne|    Carrie-Anne Moss|    1676426|171,479,930|7.829999999999999|       Action|         Sci-Fi|1999|\n|https://m.media-a...|          Goodfellas|         1990|          A|146 min|Biography, Crime,...|        8.7|The story of Henr...|        90|     Martin Scorsese|    Robert De Niro|          Ray Liotta|         Joe Pesci|     Lorraine Bracco|    1020727| 46,836,394|7.829999999999999|    Biography|          Crime|1990|\n|https://m.media-a...|            Hamilton|         2020|      PG-13|160 min|Biography, Drama,...|        8.6|The real life of ...|        90|         Thomas Kail|Lin-Manuel Miranda|        Phillipa Soo|   Leslie Odom Jr.|Renée Elise Golds...|      55291|       NULL|             7.74|    Biography|          Drama|2020|\n|https://m.media-a...|        Gisaengchung|         2019|          A|132 min|Comedy, Drama, Th...|        8.6|Greed and class d...|        96|        Bong Joon Ho|      Kang-ho Song|        Lee Sun-kyun|     Cho Yeo-jeong|        Choi Woo-sik|     552778| 53,367,844|             7.74|       Comedy|          Drama|2019|\n+--------------------+--------------------+-------------+-----------+-------+--------------------+-----------+--------------------+----------+--------------------+------------------+--------------------+------------------+--------------------+-----------+-----------+-----------------+-------------+---------------+----+\nonly showing top 20 rows\n\n"
     ]
    }
   ],
   "source": [
    "#8\n",
    "#sort imdb rating descending\n",
    "sortedDf = df.orderBy(df.IMDB_Rating.desc())\n",
    "\n",
    "#show sortedDf\n",
    "sortedDf.show()"
   ]
  },
  {
   "cell_type": "code",
   "execution_count": 0,
   "metadata": {
    "application/vnd.databricks.v1+cell": {
     "cellMetadata": {
      "byteLimit": 2048000,
      "rowLimit": 10000
     },
     "inputWidgets": {},
     "nuid": "8f503a89-65dd-486b-a945-4fbb38a1a669",
     "showTitle": false,
     "title": ""
    }
   },
   "outputs": [
    {
     "output_type": "stream",
     "name": "stdout",
     "output_type": "stream",
     "text": [
      "+--------------------+--------------------+-------------+-----------+-------+--------------------+-----------+--------------------+----------+--------------------+-----------------+------------------+------------------+--------------------+-----------+-----------+------------------+-------------+---------------+----+\n|         Poster_Link|        Series_Title|Released_Year|Certificate|Runtime|               Genre|IMDB_Rating|            Overview|Meta_score|            Director|            Star1|             Star2|             Star3|               Star4|No_of_Votes|      Gross| discounted_rating|primary_genre|secondary_genre|year|\n+--------------------+--------------------+-------------+-----------+-------+--------------------+-----------+--------------------+----------+--------------------+-----------------+------------------+------------------+--------------------+-----------+-----------+------------------+-------------+---------------+----+\n|https://m.media-a...|     My Name Is Khan|         2010|         UA|165 min|               Drama|        8.0|An Indian Muslim ...|        50|         Karan Johar|   Shah Rukh Khan|             Kajol|     Sheetal Menon|      Katie A. Keane|      98575|  4,018,695|               7.2|        Drama|           NULL|2010|\n|https://m.media-a...|            Dogville|         2003|          R|178 min|        Crime, Drama|        8.0|A woman on the ru...|        60|      Lars von Trier|    Nicole Kidman|      Paul Bettany|     Lauren Bacall|   Harriet Andersson|     137963|  1,530,386|               7.2|        Crime|          Drama|2003|\n|https://m.media-a...|    The Untouchables|         1987|          A|119 min|Crime, Drama, Thr...|        7.9|During the era of...|        79|      Brian De Palma|    Kevin Costner|      Sean Connery|    Robert De Niro|Charles Martin Smith|     281842| 76,270,454|              7.11|        Crime|          Drama|1987|\n|https://m.media-a...|  La grande bellezza|         2013|       NULL|141 min|               Drama|        7.8|Jep Gambardella h...|        86|    Paolo Sorrentino|    Toni Servillo|     Carlo Verdone|   Sabrina Ferilli|    Carlo Buccirosso|      81125|  2,852,400|              7.02|        Drama|           NULL|2013|\n|https://m.media-a...|Birdman or (The U...|         2014|          A|119 min|       Comedy, Drama|        7.7|A washed-up super...|        87|Alejandro G. Iñár...|   Michael Keaton| Zach Galifianakis|     Edward Norton|  Andrea Riseborough|     580291| 42,340,598| 6.930000000000001|       Comedy|          Drama|2014|\n|https://m.media-a...|         Barton Fink|         1991|          U|116 min|Comedy, Drama, Th...|        7.7|A renowned New Yo...|        69|           Joel Coen|       Ethan Coen|     John Turturro|      John Goodman|          Judy Davis|     113240|  6,153,939| 6.930000000000001|       Comedy|          Drama|1991|\n|https://m.media-a...|          Casablanca|         1942|          U|102 min| Drama, Romance, War|        8.5|A cynical expatri...|       100|      Michael Curtiz|  Humphrey Bogart|    Ingrid Bergman|      Paul Henreid|        Claude Rains|     522093|  1,024,560|              7.65|        Drama|        Romance|1942|\n|https://m.media-a...|   Tengoku to jigoku|         1963|       NULL|143 min|Crime, Drama, Mys...|        8.4|An executive of a...|      NULL|      Akira Kurosawa|   Toshirô Mifune|       Yutaka Sada|   Tatsuya Nakadai|        Kyôko Kagawa|      34357|       NULL|7.5600000000000005|        Crime|          Drama|1963|\n|https://m.media-a...|     Rang De Basanti|         2006|         UA|167 min|Comedy, Crime, Drama|        8.2|The story of six ...|      NULL|Rakeysh Omprakash...|       Aamir Khan|     Soha Ali Khan|         Siddharth|       Sharman Joshi|     111937|  2,197,331|              7.38|       Comedy|          Crime|2006|\n|https://m.media-a...|Les quatre cents ...|         1959|       NULL| 99 min|        Crime, Drama|        8.1|A young boy, left...|      NULL|   François Truffaut|Jean-Pierre Léaud|       Albert Rémy|    Claire Maurier|        Guy Decomble|     105291|       NULL|              7.29|        Crime|          Drama|1959|\n|https://m.media-a...|    Bonnie and Clyde|         1967|          A|111 min|Action, Biography...|        7.8|Bored waitress Bo...|        86|         Arthur Penn|    Warren Beatty|      Faye Dunaway|Michael J. Pollard|        Gene Hackman|     102415|       NULL|              7.02|       Action|      Biography|1967|\n|https://m.media-a...|O Brother, Where ...|         2000|          U|107 min|Adventure, Comedy...|        7.7|In the deep south...|        69|           Joel Coen|       Ethan Coen|    George Clooney|     John Turturro|    Tim Blake Nelson|     286742| 45,512,588| 6.930000000000001|    Adventure|         Comedy|2000|\n|https://m.media-a...|         The Verdict|         1982|          U|129 min|               Drama|        7.7|A lawyer sees the...|        77|        Sidney Lumet|      Paul Newman|Charlotte Rampling|       Jack Warden|         James Mason|      36096| 54,000,000| 6.930000000000001|        Drama|           NULL|1982|\n|https://m.media-a...|The Peanut Butter...|         2019|      PG-13| 97 min|Adventure, Comedy...|        7.6|Zak runs away fro...|        70|        Tyler Nilson| Michael Schwartz|    Zack Gottsagen|         Ann Owens|      Dakota Johnson|      66346| 13,122,642|              6.84|    Adventure|         Comedy|2019|\n|https://m.media-a...|The Bridges of Ma...|         1995|          A|135 min|      Drama, Romance|        7.6|Photographer Robe...|        69|      Clint Eastwood|   Clint Eastwood|      Meryl Streep|      Annie Corley|       Victor Slezak|      73172| 71,516,617|              6.84|        Drama|        Romance|1995|\n|https://m.media-a...|   Bohemian Rhapsody|         2018|         UA|134 min|Biography, Drama,...|        8.0|The story of the ...|        49|        Bryan Singer|       Rami Malek|      Lucy Boynton|        Gwilym Lee|           Ben Hardy|     450349|216,428,042|               7.2|    Biography|          Drama|2018|\n|https://m.media-a...|   Kill Bill: Vol. 2|         2004|          A|137 min|Action, Crime, Th...|        8.0|The Bride continu...|        83|   Quentin Tarantino|      Uma Thurman|   David Carradine|    Michael Madsen|        Daryl Hannah|     683900| 66,208,183|               7.2|       Action|          Crime|2004|\n|https://m.media-a...|Vivre sa vie: Fil...|         1962|       NULL| 80 min|               Drama|        8.0|Twelve episodic t...|      NULL|     Jean-Luc Godard|      Anna Karina|       Sady Rebbot| André S. Labarthe|Guylaine Schlumbe...|      28057|       NULL|               7.2|        Drama|           NULL|1962|\n|https://m.media-a...|      Hable con ella|         2002|          R|112 min|Drama, Mystery, R...|        7.9|Two men share an ...|        86|     Pedro Almodóvar|   Rosario Flores|     Javier Cámara| Darío Grandinetti|      Leonor Watling|     104691|  9,284,265|              7.11|        Drama|        Mystery|2002|\n|https://m.media-a...|              Zodiac|         2007|         UA|157 min|Crime, Drama, Mys...|        7.7|In the late 1960s...|        78|       David Fincher|  Jake Gyllenhaal| Robert Downey Jr.|      Mark Ruffalo|     Anthony Edwards|     466080| 33,080,084| 6.930000000000001|        Crime|          Drama|2007|\n+--------------------+--------------------+-------------+-----------+-------+--------------------+-----------+--------------------+----------+--------------------+-----------------+------------------+------------------+--------------------+-----------+-----------+------------------+-------------+---------------+----+\nonly showing top 20 rows\n\n"
     ]
    }
   ],
   "source": [
    "#9\n",
    "#drop duplicates\n",
    "dropDuplicateDf = df.dropDuplicates(['Series_Title'])\n",
    "\n",
    "#show dropDuplicateDf\n",
    "dropDuplicateDf.show()"
   ]
  },
  {
   "cell_type": "code",
   "execution_count": 0,
   "metadata": {
    "application/vnd.databricks.v1+cell": {
     "cellMetadata": {},
     "inputWidgets": {},
     "nuid": "7853bc4c-db93-4836-9324-c2777e6cc928",
     "showTitle": false,
     "title": ""
    }
   },
   "outputs": [],
   "source": []
  }
 ],
 "metadata": {
  "application/vnd.databricks.v1+notebook": {
   "dashboards": [],
   "environmentMetadata": null,
   "language": "python",
   "notebookMetadata": {
    "pythonIndentUnit": 4
   },
   "notebookName": "week 4 - exercise 5",
   "widgets": {}
  }
 },
 "nbformat": 4,
 "nbformat_minor": 0
}
