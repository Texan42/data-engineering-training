{
 "cells": [
  {
   "cell_type": "code",
   "execution_count": 120,
   "metadata": {},
   "outputs": [],
   "source": [
    "import re\n",
    "text = \"\"\"Welcome to Skillstorm! Class launched on 07-29-2024. \n",
    "So far we have learned Python, Regex, and Data Engineering. \n",
    "There will be a lot of other fun topics to cover! \n",
    "If you have questions, my number is 123-456-7890 or visit www.skillstorm.com.\"\"\""
   ]
  },
  {
   "cell_type": "code",
   "execution_count": 121,
   "metadata": {},
   "outputs": [
    {
     "name": "stdout",
     "output_type": "stream",
     "text": [
      "Welcome to Skillstorm! Class launched on 07-29-2024. \n",
      "So far we have learned Python, Regex, and Data Engineering. \n",
      "There will be a lot of other fun topics to cover! \n",
      "If you have questions, my number is 123-456-7890 or visit www.skillstorm.com.\n"
     ]
    }
   ],
   "source": [
    "print(text)"
   ]
  },
  {
   "cell_type": "code",
   "execution_count": 122,
   "metadata": {},
   "outputs": [
    {
     "data": {
      "text/plain": [
       "['to',\n",
       " 'launched',\n",
       " 'on',\n",
       " 'far',\n",
       " 'we',\n",
       " 'have',\n",
       " 'learned',\n",
       " 'and',\n",
       " 'will',\n",
       " 'be',\n",
       " 'a',\n",
       " 'lot',\n",
       " 'of',\n",
       " 'other',\n",
       " 'fun',\n",
       " 'topics',\n",
       " 'to',\n",
       " 'cover',\n",
       " 'you',\n",
       " 'have',\n",
       " 'questions',\n",
       " 'my',\n",
       " 'number',\n",
       " 'is',\n",
       " 'or',\n",
       " 'visit',\n",
       " 'www',\n",
       " 'skillstorm',\n",
       " 'com']"
      ]
     },
     "execution_count": 122,
     "metadata": {},
     "output_type": "execute_result"
    }
   ],
   "source": [
    "#1\n",
    "pattern = r'\\b[a-z]+\\b'\n",
    "matches = re.findall(pattern, text)\n",
    "matches"
   ]
  },
  {
   "cell_type": "code",
   "execution_count": 123,
   "metadata": {},
   "outputs": [
    {
     "data": {
      "text/plain": [
       "['W', 'S', 'C', 'S', 'P', 'R', 'D', 'E', 'T', 'I']"
      ]
     },
     "execution_count": 123,
     "metadata": {},
     "output_type": "execute_result"
    }
   ],
   "source": [
    "#2\n",
    "pattern = r'\\b[A-Z]+'\n",
    "matches = re.findall(pattern, text)\n",
    "matches"
   ]
  },
  {
   "cell_type": "code",
   "execution_count": 124,
   "metadata": {},
   "outputs": [
    {
     "data": {
      "text/plain": [
       "['07', '29', '2024', '123', '456', '7890']"
      ]
     },
     "execution_count": 124,
     "metadata": {},
     "output_type": "execute_result"
    }
   ],
   "source": [
    "#3\n",
    "pattern = r'\\d+'\n",
    "matches = re.findall(pattern, text)\n",
    "matches"
   ]
  },
  {
   "cell_type": "code",
   "execution_count": 125,
   "metadata": {},
   "outputs": [
    {
     "data": {
      "text/plain": [
       "['Welcome',\n",
       " 'to',\n",
       " 'Skillstorm',\n",
       " 'Class',\n",
       " 'launched',\n",
       " 'on',\n",
       " '07',\n",
       " '29',\n",
       " '2024',\n",
       " 'So',\n",
       " 'far',\n",
       " 'we',\n",
       " 'have',\n",
       " 'learned',\n",
       " 'Python',\n",
       " 'Regex',\n",
       " 'and',\n",
       " 'Data',\n",
       " 'Engineering',\n",
       " 'There',\n",
       " 'will',\n",
       " 'be',\n",
       " 'a',\n",
       " 'lot',\n",
       " 'of',\n",
       " 'other',\n",
       " 'fun',\n",
       " 'topics',\n",
       " 'to',\n",
       " 'cover',\n",
       " 'If',\n",
       " 'you',\n",
       " 'have',\n",
       " 'questions',\n",
       " 'my',\n",
       " 'number',\n",
       " 'is',\n",
       " '123',\n",
       " '456',\n",
       " '7890',\n",
       " 'or',\n",
       " 'visit',\n",
       " 'www',\n",
       " 'skillstorm',\n",
       " 'com',\n",
       " '']"
      ]
     },
     "execution_count": 125,
     "metadata": {},
     "output_type": "execute_result"
    }
   ],
   "source": [
    "#4\n",
    "pattern = r'\\W+'\n",
    "matches = re.split(pattern, text)\n",
    "matches"
   ]
  },
  {
   "cell_type": "code",
   "execution_count": 126,
   "metadata": {},
   "outputs": [
    {
     "data": {
      "text/plain": [
       "'Welcome to Skillstorm! Class launched on #-#-#. \\nSo far we have learned Python, Regex, and Data Engineering. \\nThere will be a lot of other fun topics to cover! \\nIf you have questions, my number is #-#-# or visit www.skillstorm.com.'"
      ]
     },
     "execution_count": 126,
     "metadata": {},
     "output_type": "execute_result"
    }
   ],
   "source": [
    "#5\n",
    "pattern = r'\\d+'\n",
    "replace = '#'\n",
    "matches = re.sub(pattern, replace, text)\n",
    "matches"
   ]
  },
  {
   "cell_type": "code",
   "execution_count": 127,
   "metadata": {},
   "outputs": [
    {
     "data": {
      "text/plain": [
       "['Engineering']"
      ]
     },
     "execution_count": 127,
     "metadata": {},
     "output_type": "execute_result"
    }
   ],
   "source": [
    "#6\n",
    "pattern = r'\\b\\w+ing\\b'\n",
    "matches = re.findall(pattern, text)\n",
    "matches"
   ]
  },
  {
   "cell_type": "code",
   "execution_count": 128,
   "metadata": {},
   "outputs": [
    {
     "data": {
      "text/plain": [
       "<re.Match object; span=(41, 51), match='07-29-2024'>"
      ]
     },
     "execution_count": 128,
     "metadata": {},
     "output_type": "execute_result"
    }
   ],
   "source": [
    "#7\n",
    "pattern = r'\\b(0[1-9]|1[0-2])-(0[1-9]|[12][0-9]|3[01])-\\d{4}+\\b'\n",
    "matches = re.search(pattern, text)\n",
    "matches"
   ]
  },
  {
   "cell_type": "code",
   "execution_count": 129,
   "metadata": {},
   "outputs": [
    {
     "data": {
      "text/plain": [
       "['skillstorm']"
      ]
     },
     "execution_count": 129,
     "metadata": {},
     "output_type": "execute_result"
    }
   ],
   "source": [
    "#8\n",
    "pattern = r'www\\.([^/]+)\\.com'\n",
    "matches = re.findall(pattern, text)\n",
    "matches"
   ]
  },
  {
   "cell_type": "code",
   "execution_count": 130,
   "metadata": {},
   "outputs": [
    {
     "data": {
      "text/plain": [
       "['to', 'topics', 'to']"
      ]
     },
     "execution_count": 130,
     "metadata": {},
     "output_type": "execute_result"
    }
   ],
   "source": [
    "#9\n",
    "pattern = r'\\b[t]\\w*\\b'\n",
    "matches = re.findall(pattern, text)\n",
    "matches"
   ]
  },
  {
   "cell_type": "code",
   "execution_count": 131,
   "metadata": {},
   "outputs": [
    {
     "data": {
      "text/plain": [
       "['W',\n",
       " 'e',\n",
       " 'l',\n",
       " 'c',\n",
       " 'o',\n",
       " 'm',\n",
       " 'e',\n",
       " 't',\n",
       " 'o',\n",
       " 'S',\n",
       " 'k',\n",
       " 'i',\n",
       " 'l',\n",
       " 'l',\n",
       " 's',\n",
       " 't',\n",
       " 'o',\n",
       " 'r',\n",
       " 'm',\n",
       " '!',\n",
       " 'C',\n",
       " 'l',\n",
       " 'a',\n",
       " 's',\n",
       " 's',\n",
       " 'l',\n",
       " 'a',\n",
       " 'u',\n",
       " 'n',\n",
       " 'c',\n",
       " 'h',\n",
       " 'e',\n",
       " 'd',\n",
       " 'o',\n",
       " 'n',\n",
       " '0',\n",
       " '7',\n",
       " '-',\n",
       " '2',\n",
       " '9',\n",
       " '-',\n",
       " '2',\n",
       " '0',\n",
       " '2',\n",
       " '4',\n",
       " '.',\n",
       " 'S',\n",
       " 'o',\n",
       " 'f',\n",
       " 'a',\n",
       " 'r',\n",
       " 'w',\n",
       " 'e',\n",
       " 'h',\n",
       " 'a',\n",
       " 'v',\n",
       " 'e',\n",
       " 'l',\n",
       " 'e',\n",
       " 'a',\n",
       " 'r',\n",
       " 'n',\n",
       " 'e',\n",
       " 'd',\n",
       " 'P',\n",
       " 'y',\n",
       " 't',\n",
       " 'h',\n",
       " 'o',\n",
       " 'n',\n",
       " ',',\n",
       " 'R',\n",
       " 'e',\n",
       " 'g',\n",
       " 'e',\n",
       " 'x',\n",
       " ',',\n",
       " 'a',\n",
       " 'n',\n",
       " 'd',\n",
       " 'D',\n",
       " 'a',\n",
       " 't',\n",
       " 'a',\n",
       " 'E',\n",
       " 'n',\n",
       " 'g',\n",
       " 'i',\n",
       " 'n',\n",
       " 'e',\n",
       " 'e',\n",
       " 'r',\n",
       " 'i',\n",
       " 'n',\n",
       " 'g',\n",
       " '.',\n",
       " 'T',\n",
       " 'h',\n",
       " 'e',\n",
       " 'r',\n",
       " 'e',\n",
       " 'w',\n",
       " 'i',\n",
       " 'l',\n",
       " 'l',\n",
       " 'b',\n",
       " 'e',\n",
       " 'a',\n",
       " 'l',\n",
       " 'o',\n",
       " 't',\n",
       " 'o',\n",
       " 'f',\n",
       " 'o',\n",
       " 't',\n",
       " 'h',\n",
       " 'e',\n",
       " 'r',\n",
       " 'f',\n",
       " 'u',\n",
       " 'n',\n",
       " 't',\n",
       " 'o',\n",
       " 'p',\n",
       " 'i',\n",
       " 'c',\n",
       " 's',\n",
       " 't',\n",
       " 'o',\n",
       " 'c',\n",
       " 'o',\n",
       " 'v',\n",
       " 'e',\n",
       " 'r',\n",
       " '!',\n",
       " 'I',\n",
       " 'f',\n",
       " 'y',\n",
       " 'o',\n",
       " 'u',\n",
       " 'h',\n",
       " 'a',\n",
       " 'v',\n",
       " 'e',\n",
       " 'q',\n",
       " 'u',\n",
       " 'e',\n",
       " 's',\n",
       " 't',\n",
       " 'i',\n",
       " 'o',\n",
       " 'n',\n",
       " 's',\n",
       " ',',\n",
       " 'm',\n",
       " 'y',\n",
       " 'n',\n",
       " 'u',\n",
       " 'm',\n",
       " 'b',\n",
       " 'e',\n",
       " 'r',\n",
       " 'i',\n",
       " 's',\n",
       " '1',\n",
       " '2',\n",
       " '3',\n",
       " '-',\n",
       " '4',\n",
       " '5',\n",
       " '6',\n",
       " '-',\n",
       " '7',\n",
       " '8',\n",
       " '9',\n",
       " '0',\n",
       " 'o',\n",
       " 'r',\n",
       " 'v',\n",
       " 'i',\n",
       " 's',\n",
       " 'i',\n",
       " 't',\n",
       " 'w',\n",
       " 'w',\n",
       " 'w',\n",
       " '.',\n",
       " 's',\n",
       " 'k',\n",
       " 'i',\n",
       " 'l',\n",
       " 'l',\n",
       " 's',\n",
       " 't',\n",
       " 'o',\n",
       " 'r',\n",
       " 'm',\n",
       " '.',\n",
       " 'c',\n",
       " 'o',\n",
       " 'm',\n",
       " '.']"
      ]
     },
     "execution_count": 131,
     "metadata": {},
     "output_type": "execute_result"
    }
   ],
   "source": [
    "#10\n",
    "pattern = r'\\S'\n",
    "matches = re.findall(pattern, text)\n",
    "matches"
   ]
  },
  {
   "cell_type": "code",
   "execution_count": null,
   "metadata": {},
   "outputs": [],
   "source": []
  }
 ],
 "metadata": {
  "kernelspec": {
   "display_name": "Python 3",
   "language": "python",
   "name": "python3"
  },
  "language_info": {
   "codemirror_mode": {
    "name": "ipython",
    "version": 3
   },
   "file_extension": ".py",
   "mimetype": "text/x-python",
   "name": "python",
   "nbconvert_exporter": "python",
   "pygments_lexer": "ipython3",
   "version": "3.12.4"
  }
 },
 "nbformat": 4,
 "nbformat_minor": 2
}
