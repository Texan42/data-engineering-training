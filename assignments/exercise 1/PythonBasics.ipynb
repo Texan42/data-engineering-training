{
 "cells": [
  {
   "cell_type": "code",
   "execution_count": 2,
   "metadata": {},
   "outputs": [
    {
     "name": "stdout",
     "output_type": "stream",
     "text": [
      "#1  1 1.5 hello world True\n",
      "#2 hello world\n",
      "#3 hello world 42\n"
     ]
    },
    {
     "data": {
      "text/plain": [
       "str"
      ]
     },
     "execution_count": 2,
     "metadata": {},
     "output_type": "execute_result"
    }
   ],
   "source": [
    "#Exercise 1\n",
    "#1\n",
    "a = int(1)\n",
    "b = float(1.5)\n",
    "c = 'hello world'\n",
    "d = True\n",
    "print('#1 ', a, b, c, d)\n",
    "\n",
    "#2\n",
    "string1 = 'hello'\n",
    "string2 = 'world'\n",
    "print('#2 ' + string1 + ' ' + string2)\n",
    "\n",
    "#3\n",
    "int_to_string = int(42)\n",
    "int_to_string = str(42)\n",
    "print('#3 ' + string1 + ' ' + string2 + ' ' + int_to_string)\n",
    "type(int_to_string)"
   ]
  },
  {
   "cell_type": "code",
   "execution_count": 3,
   "metadata": {},
   "outputs": [
    {
     "name": "stdout",
     "output_type": "stream",
     "text": [
      "#1 2024-08-08 12:17:02.743221\n",
      "#2 2024-08-08\n",
      "53\n"
     ]
    }
   ],
   "source": [
    "#exercise 2\n",
    "#1\n",
    "import datetime\n",
    "date = str(datetime.datetime.now())\n",
    "print('#1 ' + date)\n",
    "\n",
    "#2\n",
    "date2 = datetime.datetime.now()\n",
    "print('#2 ' + date2.strftime('%Y-%m-%d'))\n",
    "\n",
    "#3\n",
    "date_format = '\"%m-%d-%Y\"'\n",
    "date3 = datetime.datetime.today()\n",
    "bday = datetime.date(2024,9,30)\n",
    "delta = bday - date3.date()\n",
    "print(delta.days)"
   ]
  },
  {
   "cell_type": "code",
   "execution_count": 4,
   "metadata": {},
   "outputs": [
    {
     "name": "stdout",
     "output_type": "stream",
     "text": [
      "#1 HELLO WORLD\n",
      "#2 'my' starts at index 6\n",
      "#3 goodbye world\n"
     ]
    }
   ],
   "source": [
    "#exercise 3\n",
    "#1\n",
    "str_to_upper = 'hello world'\n",
    "print('#1 ' + str_to_upper.upper())\n",
    "\n",
    "#2\n",
    "str_location = 'hello my name is world'\n",
    "location = str(str_location.find('my', 0))\n",
    "print('#2 ' + '\\'my\\' starts at index ' + location)\n",
    "\n",
    "#3\n",
    "str_replace = 'hello world'\n",
    "print('#3 ' + str_replace.replace('hello', 'goodbye'))"
   ]
  },
  {
   "cell_type": "code",
   "execution_count": 5,
   "metadata": {},
   "outputs": [
    {
     "name": "stdout",
     "output_type": "stream",
     "text": [
      "[1, 4, 2, 3]\n",
      "[1, 4, 2, 3, 27]\n",
      "[1, 4, 2, 27]\n",
      "[1, 2, 4, 27]\n"
     ]
    }
   ],
   "source": [
    "#exercise 4\n",
    "#1\n",
    "int_list = [1, 4, 2, 3]\n",
    "print(int_list)\n",
    "#2\n",
    "int_list.append(27)\n",
    "print(int_list)\n",
    "#3\n",
    "int_list.remove(3)\n",
    "print(int_list)\n",
    "#4\n",
    "int_list.sort()\n",
    "print(int_list)"
   ]
  },
  {
   "cell_type": "code",
   "execution_count": 6,
   "metadata": {},
   "outputs": [
    {
     "name": "stdout",
     "output_type": "stream",
     "text": [
      "{'dos': 1, 'dos2': 2, 'bg3': 3}\n",
      "{'dos': 1, 'dos2': 2, 'bg3': 3, 'ac1': 4}\n",
      "{'dos2', 'bg3', 'dos', 'ac1'}\n",
      "It's in there!\n"
     ]
    }
   ],
   "source": [
    "#exercise 5\n",
    "#1\n",
    "diction1 = {'dos': 1, 'dos2': 2, 'bg3': 3}\n",
    "print(diction1)\n",
    "\n",
    "#2\n",
    "diction1['ac1'] = 4\n",
    "print(diction1)\n",
    "\n",
    "#3\n",
    "set1 = {'dos', 'dos2', 'bg3', 'ac1'}\n",
    "print(set1)\n",
    "\n",
    "#4\n",
    "if 'ac1' in set1:\n",
    "    print(\"It\\'s in there!\")"
   ]
  },
  {
   "cell_type": "code",
   "execution_count": 7,
   "metadata": {},
   "outputs": [
    {
     "name": "stdout",
     "output_type": "stream",
     "text": [
      "365\n",
      "2024-08-18 12:17:02.766538\n",
      "2024-08-08 07:17:02.766538\n"
     ]
    }
   ],
   "source": [
    "#exercie 6\n",
    "#1\n",
    "d1 = datetime.date(2024, 1, 1)\n",
    "d2 = datetime.date(2024, 12, 31)\n",
    "difference = d2 - d1\n",
    "print(difference.days)\n",
    "\n",
    "#2\n",
    "add_date = datetime.datetime.now()\n",
    "added = add_date + datetime.timedelta(days=10)\n",
    "print(added)\n",
    "\n",
    "#3\n",
    "add_hours = datetime.datetime.now()\n",
    "hour_add = add_hours - datetime.timedelta(hours= 5)\n",
    "print(hour_add)"
   ]
  },
  {
   "cell_type": "code",
   "execution_count": 8,
   "metadata": {},
   "outputs": [
    {
     "name": "stdout",
     "output_type": "stream",
     "text": [
      "['hello', 'world', 'of', 'python']\n",
      "hello|world|of|python\n",
      "4\n"
     ]
    }
   ],
   "source": [
    "#exercise 7\n",
    "#1\n",
    "split_string = 'hello world of python'\n",
    "been_split = split_string.split(' ')\n",
    "print(been_split)\n",
    "\n",
    "#2\n",
    "bar = '|'\n",
    "print(bar.join(been_split))\n",
    "\n",
    "#3\n",
    "print(split_string.count('o'))"
   ]
  },
  {
   "cell_type": "code",
   "execution_count": 9,
   "metadata": {},
   "outputs": [
    {
     "name": "stdout",
     "output_type": "stream",
     "text": [
      "[1, 4, 9, 16, 25, 36, 49, 64, 81, 100]\n",
      "[4, 16, 36, 64, 100]\n",
      "{'ac1': 1, 'ac2': 2, 'ac3': 3, 'ac4': 4}\n"
     ]
    }
   ],
   "source": [
    "#exercise 8\n",
    "#1\n",
    "list_to_square = [1,2,3,4,5,6,7,8,9,10]\n",
    "numbers_squared = [num**2 for num in list_to_square]\n",
    "print(numbers_squared)\n",
    "\n",
    "#2\n",
    "even_nums = [num for num in numbers_squared if num%2 == 0]\n",
    "print(even_nums)\n",
    "\n",
    "#3\n",
    "key = ['ac1', 'ac2', 'ac3', 'ac4']\n",
    "value = [1, 2, 3, 4]\n",
    "games = {k:v for (k, v) in zip(key, value)}\n",
    "print(games)"
   ]
  },
  {
   "cell_type": "code",
   "execution_count": 10,
   "metadata": {},
   "outputs": [
    {
     "name": "stdout",
     "output_type": "stream",
     "text": [
      "The average grade is: 81.0\n",
      "The student with the highest grade is: Sally\n"
     ]
    }
   ],
   "source": [
    "#exercise 9\n",
    "#1\n",
    "students = [\n",
    "    {\n",
    "        'name': 'Griffin',\n",
    "        'grade': 73\n",
    "    },\n",
    "    {\n",
    "        'name': 'Sally',\n",
    "        'grade': 89\n",
    "    }\n",
    "]\n",
    "\n",
    "#2\n",
    "grades_sum = sum(students['grade'] for students in students)\n",
    "student_sum = len(students)\n",
    "\n",
    "avg_grade = grades_sum / student_sum\n",
    "print(f'The average grade is: {avg_grade}')\n",
    "\n",
    "#3\n",
    "high_grade = max(students, key=lambda students: students['grade'])\n",
    "print(f'The student with the highest grade is: {high_grade['name']}')"
   ]
  },
  {
   "cell_type": "code",
   "execution_count": 33,
   "metadata": {},
   "outputs": [
    {
     "name": "stdout",
     "output_type": "stream",
     "text": [
      "2021-03-12 00:00:00\n",
      "There are 52 days between the two dates\n",
      "2024-08-05 00:00:00\n",
      "2024-08-05 00:00:00\n",
      "2024-08-08 00:00:00\n",
      "2024-08-11 00:00:00\n",
      "2024-08-14 00:00:00\n",
      "2024-08-17 00:00:00\n",
      "2024-08-20 00:00:00\n",
      "2024-08-23 00:00:00\n",
      "2024-08-26 00:00:00\n",
      "2024-08-29 00:00:00\n"
     ]
    }
   ],
   "source": [
    "#10\n",
    "\n",
    "#1\n",
    "string = '2021-03-12'\n",
    "date_time = datetime.datetime.strptime(string, '%Y-%m-%d')\n",
    "print(date_time)\n",
    "\n",
    "#2\n",
    "def day_difference(date1, date2):\n",
    "    difference = date1 - date2\n",
    "    return print(f'There are {difference.days} days between the two dates')\n",
    "\n",
    "date1 = datetime.datetime(2024, 8, 8)\n",
    "date1 = datetime.datetime(2024, 9, 30)\n",
    "day_difference(date1, date2)\n",
    "\n",
    "#3\n",
    "def get_occurrences(start_date, end_date, meeting_date, interval):\n",
    "    occurrences = []\n",
    "    while meeting_date <= end_date:\n",
    "        if start_date <= meeting_date <= end_date:\n",
    "            occurrences.append(meeting_date)\n",
    "        meeting_date += interval\n",
    "\n",
    "    return occurrences\n",
    "\n",
    "start_date = datetime.datetime(2024, 8, 1)\n",
    "end_date = datetime.datetime(2024, 8, 31)\n",
    "meeting_date = datetime.datetime(2024, 8, 5)\n",
    "interval = datetime.timedelta(days=3)\n",
    "\n",
    "occurrences = get_occurrences(start_date, end_date, meeting_date, interval)\n",
    "for occurrence in occurrences:\n",
    "    print(occurrence)"
   ]
  },
  {
   "cell_type": "code",
   "execution_count": null,
   "metadata": {},
   "outputs": [],
   "source": []
  }
 ],
 "metadata": {
  "kernelspec": {
   "display_name": "Python 3",
   "language": "python",
   "name": "python3"
  },
  "language_info": {
   "codemirror_mode": {
    "name": "ipython",
    "version": 3
   },
   "file_extension": ".py",
   "mimetype": "text/x-python",
   "name": "python",
   "nbconvert_exporter": "python",
   "pygments_lexer": "ipython3",
   "version": "3.12.4"
  }
 },
 "nbformat": 4,
 "nbformat_minor": 2
}
