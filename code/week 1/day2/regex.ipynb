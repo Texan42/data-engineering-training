{
 "cells": [
  {
   "cell_type": "code",
   "execution_count": 1,
   "metadata": {},
   "outputs": [],
   "source": [
    "#regex"
   ]
  },
  {
   "cell_type": "code",
   "execution_count": 2,
   "metadata": {},
   "outputs": [],
   "source": [
    "#regex library\n",
    "import re"
   ]
  },
  {
   "cell_type": "code",
   "execution_count": 3,
   "metadata": {},
   "outputs": [],
   "source": [
    "#regex methods 4 methods\n",
    "\n",
    "# re.findall()- return a list of all matches\n",
    "# re.search()- return matched object IF there is a match\n",
    "# re.split()- return list where the string has been split at each match\n",
    "# re.sub()- replace one or many matches in the string"
   ]
  },
  {
   "cell_type": "code",
   "execution_count": 4,
   "metadata": {},
   "outputs": [],
   "source": [
    "# Meta Characters:\n",
    "\n",
    "# [] - set of characters\n",
    "# . - any character\n",
    "# ^ - starts with this item or not\n",
    "# $ - end with this item or not\n",
    "# ? - zero or one of item\n",
    "# {n} - matches exact 'n' item\n",
    "# | - either or \n",
    "# () - capture and group, any item in parantheses"
   ]
  },
  {
   "cell_type": "code",
   "execution_count": 5,
   "metadata": {},
   "outputs": [],
   "source": [
    "# \\A or ^ - match at the beginning of the string\n",
    "# \\b - match where characters are at the beginning of a word\n",
    "# \\B -  return a match where the characters are present NOT at the beginning or end\n",
    "# \\d - matches a digit\n",
    "# \\D - does NOT match the digit\n",
    "# \\s - matches a whitespace character\n",
    "# \\S - does NOT match whitespace character\n",
    "# \\w - matches a-zA-Z0-9\n",
    "# \\W - matches any non word character\n",
    "# \\Z or $ - matches at the end of a string"
   ]
  },
  {
   "cell_type": "code",
   "execution_count": 24,
   "metadata": {},
   "outputs": [],
   "source": [
    "#findall\n",
    "text = \"the rain in Spain stays mainly in the plain\""
   ]
  },
  {
   "cell_type": "code",
   "execution_count": 25,
   "metadata": {},
   "outputs": [
    {
     "name": "stdout",
     "output_type": "stream",
     "text": [
      "re.findall() matches: ['in', 'in']\n"
     ]
    }
   ],
   "source": [
    "pattern = r'\\bin\\b'\n",
    "\n",
    "matches = re.findall(pattern, text)\n",
    "print(f\"re.findall() matches: {matches}\")"
   ]
  },
  {
   "cell_type": "code",
   "execution_count": 26,
   "metadata": {},
   "outputs": [
    {
     "name": "stdout",
     "output_type": "stream",
     "text": [
      "re.search() match: Spain\n"
     ]
    }
   ],
   "source": [
    "#search\n",
    "pattern = r'\\bSpain\\b'\n",
    "\n",
    "match = re.search(pattern, text)\n",
    "\n",
    "if match:\n",
    "    print(f\"re.search() match: {match.group()}\")\n",
    "else:\n",
    "    print(\"No match was found\")"
   ]
  },
  {
   "cell_type": "code",
   "execution_count": 27,
   "metadata": {},
   "outputs": [
    {
     "name": "stdout",
     "output_type": "stream",
     "text": [
      "re.split() results: ['the', 'rain', 'in', 'Spain', 'stays', 'mainly', 'in', 'the', 'plain']\n"
     ]
    }
   ],
   "source": [
    "#split\n",
    "pattern = r'\\s'\n",
    "split_text = re.split(pattern, text)\n",
    "print(f\"re.split() results: {split_text}\")"
   ]
  },
  {
   "cell_type": "code",
   "execution_count": 29,
   "metadata": {},
   "outputs": [
    {
     "name": "stdout",
     "output_type": "stream",
     "text": [
      "re.sub() result: the rain in Spain stays mainly in the mountain\n"
     ]
    }
   ],
   "source": [
    "#sub\n",
    "pattern = r'\\bplain\\b'\n",
    "replace = 'mountain'\n",
    "\n",
    "new_text = re.sub(pattern, replace, text)\n",
    "\n",
    "print(f're.sub() result: {new_text}')"
   ]
  },
  {
   "cell_type": "code",
   "execution_count": 30,
   "metadata": {},
   "outputs": [],
   "source": [
    "text = 'welcome to skillstorm. I hope you enjoyed your first day'"
   ]
  },
  {
   "cell_type": "code",
   "execution_count": 38,
   "metadata": {},
   "outputs": [
    {
     "name": "stdout",
     "output_type": "stream",
     "text": [
      "match a word: <re.Match object; span=(11, 21), match='skillstorm'>\n"
     ]
    }
   ],
   "source": [
    "match = re.search(r'\\bskillstorm\\b', text)\n",
    "print(f'match a word: {match}')"
   ]
  },
  {
   "cell_type": "code",
   "execution_count": 42,
   "metadata": {},
   "outputs": [
    {
     "name": "stdout",
     "output_type": "stream",
     "text": [
      "match a capital word: ['I']\n"
     ]
    }
   ],
   "source": [
    "match = re.findall(r'\\b[A-Z][a-z]*\\b', text)\n",
    "print(f'match a capital word: {match}')"
   ]
  },
  {
   "cell_type": "code",
   "execution_count": 45,
   "metadata": {},
   "outputs": [
    {
     "name": "stdout",
     "output_type": "stream",
     "text": [
      "match all word: ['welcome', 'to', 'skillstorm', 'I', 'hope', 'you', 'enjoyed', 'your', 'first', 'day']\n"
     ]
    }
   ],
   "source": [
    "match = re.findall(r'\\b\\w+\\b', text)\n",
    "print(f'match all word: {match}')"
   ]
  },
  {
   "cell_type": "code",
   "execution_count": 46,
   "metadata": {},
   "outputs": [
    {
     "name": "stdout",
     "output_type": "stream",
     "text": [
      "match all vowels: ['e', 'o', 'e', 'o', 'i', 'o', 'I', 'o', 'e', 'o', 'u', 'e', 'o', 'e', 'o', 'u', 'i', 'a']\n"
     ]
    }
   ],
   "source": [
    "match = re.findall(r'[aeiouAEIOU]', text)\n",
    "print(f'match all vowels: {match}')"
   ]
  },
  {
   "cell_type": "code",
   "execution_count": 47,
   "metadata": {},
   "outputs": [
    {
     "name": "stdout",
     "output_type": "stream",
     "text": [
      "match all vowels ignore case: ['e', 'o', 'e', 'o', 'i', 'o', 'I', 'o', 'e', 'o', 'u', 'e', 'o', 'e', 'o', 'u', 'i', 'a']\n"
     ]
    }
   ],
   "source": [
    "match = re.findall(r'[aeiou]', text, re.IGNORECASE)\n",
    "print(f'match all vowels ignore case: {match}')"
   ]
  },
  {
   "cell_type": "code",
   "execution_count": null,
   "metadata": {},
   "outputs": [],
   "source": []
  }
 ],
 "metadata": {
  "kernelspec": {
   "display_name": "Python 3",
   "language": "python",
   "name": "python3"
  },
  "language_info": {
   "codemirror_mode": {
    "name": "ipython",
    "version": 3
   },
   "file_extension": ".py",
   "mimetype": "text/x-python",
   "name": "python",
   "nbconvert_exporter": "python",
   "pygments_lexer": "ipython3",
   "version": "3.12.4"
  }
 },
 "nbformat": 4,
 "nbformat_minor": 2
}
