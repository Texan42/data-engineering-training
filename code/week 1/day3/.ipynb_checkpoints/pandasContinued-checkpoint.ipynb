{
 "cells": [
  {
   "cell_type": "code",
   "execution_count": 9,
   "metadata": {},
   "outputs": [
    {
     "data": {
      "text/html": [
       "<div>\n",
       "<style scoped>\n",
       "    .dataframe tbody tr th:only-of-type {\n",
       "        vertical-align: middle;\n",
       "    }\n",
       "\n",
       "    .dataframe tbody tr th {\n",
       "        vertical-align: top;\n",
       "    }\n",
       "\n",
       "    .dataframe thead th {\n",
       "        text-align: right;\n",
       "    }\n",
       "</style>\n",
       "<table border=\"1\" class=\"dataframe\">\n",
       "  <thead>\n",
       "    <tr style=\"text-align: right;\">\n",
       "      <th></th>\n",
       "      <th>Track</th>\n",
       "      <th>Album Name</th>\n",
       "      <th>Artist</th>\n",
       "      <th>Release Date</th>\n",
       "      <th>ISRC</th>\n",
       "      <th>All Time Rank</th>\n",
       "      <th>Track Score</th>\n",
       "      <th>Spotify Streams</th>\n",
       "      <th>Spotify Playlist Count</th>\n",
       "      <th>Spotify Playlist Reach</th>\n",
       "      <th>...</th>\n",
       "      <th>SiriusXM Spins</th>\n",
       "      <th>Deezer Playlist Count</th>\n",
       "      <th>Deezer Playlist Reach</th>\n",
       "      <th>Amazon Playlist Count</th>\n",
       "      <th>Pandora Streams</th>\n",
       "      <th>Pandora Track Stations</th>\n",
       "      <th>Soundcloud Streams</th>\n",
       "      <th>Shazam Counts</th>\n",
       "      <th>TIDAL Popularity</th>\n",
       "      <th>Explicit Track</th>\n",
       "    </tr>\n",
       "  </thead>\n",
       "  <tbody>\n",
       "    <tr>\n",
       "      <th>932</th>\n",
       "      <td>APAGA EL CEL</td>\n",
       "      <td>APAGA EL CEL - Single</td>\n",
       "      <td>FloyyMenor</td>\n",
       "      <td>5/17/2024</td>\n",
       "      <td>QZMWW2484259</td>\n",
       "      <td>929</td>\n",
       "      <td>50.0</td>\n",
       "      <td>33,245,898</td>\n",
       "      <td>2,343</td>\n",
       "      <td>69,471,936</td>\n",
       "      <td>...</td>\n",
       "      <td>NaN</td>\n",
       "      <td>3.0</td>\n",
       "      <td>821,777</td>\n",
       "      <td>17.0</td>\n",
       "      <td>18,555</td>\n",
       "      <td>27</td>\n",
       "      <td>110,406</td>\n",
       "      <td>171,732</td>\n",
       "      <td>NaN</td>\n",
       "      <td>1</td>\n",
       "    </tr>\n",
       "    <tr>\n",
       "      <th>2899</th>\n",
       "      <td>Delicate</td>\n",
       "      <td>reputation</td>\n",
       "      <td>Taylor Swift</td>\n",
       "      <td>11/10/2017</td>\n",
       "      <td>USCJY1750007</td>\n",
       "      <td>2,885</td>\n",
       "      <td>26.0</td>\n",
       "      <td>987,770,768</td>\n",
       "      <td>58,856</td>\n",
       "      <td>33,732,271</td>\n",
       "      <td>...</td>\n",
       "      <td>30</td>\n",
       "      <td>17.0</td>\n",
       "      <td>234,356</td>\n",
       "      <td>55.0</td>\n",
       "      <td>168,036,238</td>\n",
       "      <td>64,405</td>\n",
       "      <td>NaN</td>\n",
       "      <td>3,928,542</td>\n",
       "      <td>NaN</td>\n",
       "      <td>0</td>\n",
       "    </tr>\n",
       "    <tr>\n",
       "      <th>4421</th>\n",
       "      <td>La La La (Brazil 2014)</td>\n",
       "      <td>Shakira. (Deluxe Version)</td>\n",
       "      <td>Shakira</td>\n",
       "      <td>3/14/2014</td>\n",
       "      <td>USRC11400478</td>\n",
       "      <td>4,395</td>\n",
       "      <td>20.0</td>\n",
       "      <td>125,560,682</td>\n",
       "      <td>17,633</td>\n",
       "      <td>2,897,643</td>\n",
       "      <td>...</td>\n",
       "      <td>102</td>\n",
       "      <td>7.0</td>\n",
       "      <td>129,945</td>\n",
       "      <td>2.0</td>\n",
       "      <td>NaN</td>\n",
       "      <td>NaN</td>\n",
       "      <td>NaN</td>\n",
       "      <td>1,319,100</td>\n",
       "      <td>NaN</td>\n",
       "      <td>0</td>\n",
       "    </tr>\n",
       "    <tr>\n",
       "      <th>3858</th>\n",
       "      <td>ýýýýýý</td>\n",
       "      <td>ýýýýýý</td>\n",
       "      <td>ýýýýýýýýýýýý</td>\n",
       "      <td>1/5/2024</td>\n",
       "      <td>JPPO02304150</td>\n",
       "      <td>3,834</td>\n",
       "      <td>21.8</td>\n",
       "      <td>46,945,798</td>\n",
       "      <td>4,120</td>\n",
       "      <td>5,907,064</td>\n",
       "      <td>...</td>\n",
       "      <td>NaN</td>\n",
       "      <td>1.0</td>\n",
       "      <td>20,798</td>\n",
       "      <td>4.0</td>\n",
       "      <td>NaN</td>\n",
       "      <td>NaN</td>\n",
       "      <td>NaN</td>\n",
       "      <td>161,457</td>\n",
       "      <td>NaN</td>\n",
       "      <td>0</td>\n",
       "    </tr>\n",
       "    <tr>\n",
       "      <th>783</th>\n",
       "      <td>PAINTING PICTURES</td>\n",
       "      <td>5LBS OF PRESSURE</td>\n",
       "      <td>Superstar Pride</td>\n",
       "      <td>10/20/2022</td>\n",
       "      <td>QZNMX2257577</td>\n",
       "      <td>777</td>\n",
       "      <td>54.9</td>\n",
       "      <td>193,109,326</td>\n",
       "      <td>76,047</td>\n",
       "      <td>4,765,141</td>\n",
       "      <td>...</td>\n",
       "      <td>2,704</td>\n",
       "      <td>4.0</td>\n",
       "      <td>479,325</td>\n",
       "      <td>1.0</td>\n",
       "      <td>7,692,981</td>\n",
       "      <td>6,306</td>\n",
       "      <td>23,495,613</td>\n",
       "      <td>2,304,354</td>\n",
       "      <td>NaN</td>\n",
       "      <td>1</td>\n",
       "    </tr>\n",
       "  </tbody>\n",
       "</table>\n",
       "<p>5 rows × 29 columns</p>\n",
       "</div>"
      ],
      "text/plain": [
       "                       Track                 Album Name           Artist  \\\n",
       "932             APAGA EL CEL      APAGA EL CEL - Single       FloyyMenor   \n",
       "2899                Delicate                 reputation     Taylor Swift   \n",
       "4421  La La La (Brazil 2014)  Shakira. (Deluxe Version)          Shakira   \n",
       "3858                  ýýýýýý                     ýýýýýý     ýýýýýýýýýýýý   \n",
       "783        PAINTING PICTURES           5LBS OF PRESSURE  Superstar Pride   \n",
       "\n",
       "     Release Date          ISRC All Time Rank  Track Score Spotify Streams  \\\n",
       "932     5/17/2024  QZMWW2484259           929         50.0      33,245,898   \n",
       "2899   11/10/2017  USCJY1750007         2,885         26.0     987,770,768   \n",
       "4421    3/14/2014  USRC11400478         4,395         20.0     125,560,682   \n",
       "3858     1/5/2024  JPPO02304150         3,834         21.8      46,945,798   \n",
       "783    10/20/2022  QZNMX2257577           777         54.9     193,109,326   \n",
       "\n",
       "     Spotify Playlist Count Spotify Playlist Reach  ...  SiriusXM Spins  \\\n",
       "932                   2,343             69,471,936  ...             NaN   \n",
       "2899                 58,856             33,732,271  ...              30   \n",
       "4421                 17,633              2,897,643  ...             102   \n",
       "3858                  4,120              5,907,064  ...             NaN   \n",
       "783                  76,047              4,765,141  ...           2,704   \n",
       "\n",
       "     Deezer Playlist Count Deezer Playlist Reach Amazon Playlist Count  \\\n",
       "932                    3.0               821,777                  17.0   \n",
       "2899                  17.0               234,356                  55.0   \n",
       "4421                   7.0               129,945                   2.0   \n",
       "3858                   1.0                20,798                   4.0   \n",
       "783                    4.0               479,325                   1.0   \n",
       "\n",
       "     Pandora Streams Pandora Track Stations Soundcloud Streams  Shazam Counts  \\\n",
       "932           18,555                     27            110,406        171,732   \n",
       "2899     168,036,238                 64,405                NaN      3,928,542   \n",
       "4421             NaN                    NaN                NaN      1,319,100   \n",
       "3858             NaN                    NaN                NaN        161,457   \n",
       "783        7,692,981                  6,306         23,495,613      2,304,354   \n",
       "\n",
       "     TIDAL Popularity Explicit Track  \n",
       "932               NaN              1  \n",
       "2899              NaN              0  \n",
       "4421              NaN              0  \n",
       "3858              NaN              0  \n",
       "783               NaN              1  \n",
       "\n",
       "[5 rows x 29 columns]"
      ]
     },
     "execution_count": 9,
     "metadata": {},
     "output_type": "execute_result"
    }
   ],
   "source": [
    "import pandas as pd\n",
    "import numpy as np\n",
    "\n",
    "df = pd.read_csv('spotify.csv', encoding='ISO-8859-1')\n",
    "df.sample(5)"
   ]
  },
  {
   "cell_type": "code",
   "execution_count": 2,
   "metadata": {},
   "outputs": [
    {
     "name": "stdout",
     "output_type": "stream",
     "text": [
      "<class 'pandas.core.frame.DataFrame'>\n",
      "RangeIndex: 4600 entries, 0 to 4599\n",
      "Data columns (total 29 columns):\n",
      " #   Column                      Non-Null Count  Dtype  \n",
      "---  ------                      --------------  -----  \n",
      " 0   Track                       4600 non-null   object \n",
      " 1   Album Name                  4600 non-null   object \n",
      " 2   Artist                      4595 non-null   object \n",
      " 3   Release Date                4600 non-null   object \n",
      " 4   ISRC                        4600 non-null   object \n",
      " 5   All Time Rank               4600 non-null   object \n",
      " 6   Track Score                 4600 non-null   float64\n",
      " 7   Spotify Streams             4487 non-null   object \n",
      " 8   Spotify Playlist Count      4530 non-null   object \n",
      " 9   Spotify Playlist Reach      4528 non-null   object \n",
      " 10  Spotify Popularity          3796 non-null   float64\n",
      " 11  YouTube Views               4292 non-null   object \n",
      " 12  YouTube Likes               4285 non-null   object \n",
      " 13  TikTok Posts                3427 non-null   object \n",
      " 14  TikTok Likes                3620 non-null   object \n",
      " 15  TikTok Views                3619 non-null   object \n",
      " 16  YouTube Playlist Reach      3591 non-null   object \n",
      " 17  Apple Music Playlist Count  4039 non-null   float64\n",
      " 18  AirPlay Spins               4102 non-null   object \n",
      " 19  SiriusXM Spins              2477 non-null   object \n",
      " 20  Deezer Playlist Count       3679 non-null   float64\n",
      " 21  Deezer Playlist Reach       3672 non-null   object \n",
      " 22  Amazon Playlist Count       3545 non-null   float64\n",
      " 23  Pandora Streams             3494 non-null   object \n",
      " 24  Pandora Track Stations      3332 non-null   object \n",
      " 25  Soundcloud Streams          1267 non-null   object \n",
      " 26  Shazam Counts               4023 non-null   object \n",
      " 27  TIDAL Popularity            0 non-null      float64\n",
      " 28  Explicit Track              4600 non-null   int64  \n",
      "dtypes: float64(6), int64(1), object(22)\n",
      "memory usage: 1.0+ MB\n"
     ]
    }
   ],
   "source": [
    "# release date should be datetime, some numbers are listed as objects\n",
    "df.info()"
   ]
  },
  {
   "cell_type": "code",
   "execution_count": 3,
   "metadata": {},
   "outputs": [
    {
     "data": {
      "text/plain": [
       "['Track',\n",
       " 'Album Name',\n",
       " 'Artist',\n",
       " 'Release Date',\n",
       " 'ISRC',\n",
       " 'All Time Rank',\n",
       " 'Track Score',\n",
       " 'Spotify Streams',\n",
       " 'Spotify Playlist Count',\n",
       " 'Spotify Playlist Reach',\n",
       " 'Spotify Popularity',\n",
       " 'YouTube Views',\n",
       " 'YouTube Likes',\n",
       " 'TikTok Posts',\n",
       " 'TikTok Likes',\n",
       " 'TikTok Views',\n",
       " 'YouTube Playlist Reach',\n",
       " 'Apple Music Playlist Count',\n",
       " 'AirPlay Spins',\n",
       " 'SiriusXM Spins',\n",
       " 'Deezer Playlist Count',\n",
       " 'Deezer Playlist Reach',\n",
       " 'Amazon Playlist Count',\n",
       " 'Pandora Streams',\n",
       " 'Pandora Track Stations',\n",
       " 'Soundcloud Streams',\n",
       " 'Shazam Counts',\n",
       " 'TIDAL Popularity',\n",
       " 'Explicit Track']"
      ]
     },
     "execution_count": 3,
     "metadata": {},
     "output_type": "execute_result"
    }
   ],
   "source": [
    "df.columns.to_list()"
   ]
  },
  {
   "cell_type": "code",
   "execution_count": 4,
   "metadata": {},
   "outputs": [],
   "source": [
    "original_columns = ['Track',\n",
    " 'Album Name',\n",
    " 'Artist',\n",
    " 'Release Date',\n",
    " 'ISRC',\n",
    " 'All Time Rank',\n",
    " 'Track Score',\n",
    " 'Spotify Streams',\n",
    " 'Spotify Playlist Count',\n",
    " 'Spotify Playlist Reach',\n",
    " 'Spotify Popularity',\n",
    " 'YouTube Views',\n",
    " 'YouTube Likes',\n",
    " 'TikTok Posts',\n",
    " 'TikTok Likes',\n",
    " 'TikTok Views',\n",
    " 'YouTube Playlist Reach',\n",
    " 'Apple Music Playlist Count',\n",
    " 'AirPlay Spins',\n",
    " 'SiriusXM Spins',\n",
    " 'Deezer Playlist Count',\n",
    " 'Deezer Playlist Reach',\n",
    " 'Amazon Playlist Count',\n",
    " 'Pandora Streams',\n",
    " 'Pandora Track Stations',\n",
    " 'Soundcloud Streams',\n",
    " 'Shazam Counts',\n",
    " 'TIDAL Popularity',\n",
    " 'Explicit Track']\n",
    "\n",
    "new_columns = [col.lower().replace(' ', '_') for col in original_columns]\n",
    "\n",
    "df.columns = new_columns"
   ]
  },
  {
   "cell_type": "code",
   "execution_count": 5,
   "metadata": {},
   "outputs": [
    {
     "data": {
      "text/plain": [
       "['track',\n",
       " 'album_name',\n",
       " 'artist',\n",
       " 'release_date',\n",
       " 'isrc',\n",
       " 'all_time_rank',\n",
       " 'track_score',\n",
       " 'spotify_streams',\n",
       " 'spotify_playlist_count',\n",
       " 'spotify_playlist_reach',\n",
       " 'spotify_popularity',\n",
       " 'youtube_views',\n",
       " 'youtube_likes',\n",
       " 'tiktok_posts',\n",
       " 'tiktok_likes',\n",
       " 'tiktok_views',\n",
       " 'youtube_playlist_reach',\n",
       " 'apple_music_playlist_count',\n",
       " 'airplay_spins',\n",
       " 'siriusxm_spins',\n",
       " 'deezer_playlist_count',\n",
       " 'deezer_playlist_reach',\n",
       " 'amazon_playlist_count',\n",
       " 'pandora_streams',\n",
       " 'pandora_track_stations',\n",
       " 'soundcloud_streams',\n",
       " 'shazam_counts',\n",
       " 'tidal_popularity',\n",
       " 'explicit_track']"
      ]
     },
     "execution_count": 5,
     "metadata": {},
     "output_type": "execute_result"
    }
   ],
   "source": [
    "df.columns.to_list()"
   ]
  },
  {
   "cell_type": "code",
   "execution_count": 6,
   "metadata": {},
   "outputs": [
    {
     "data": {
      "text/plain": [
       "track                          object\n",
       "album_name                     object\n",
       "artist                         object\n",
       "release_date                   object\n",
       "isrc                           object\n",
       "all_time_rank                  object\n",
       "track_score                   float64\n",
       "spotify_streams                object\n",
       "spotify_playlist_count         object\n",
       "spotify_playlist_reach         object\n",
       "spotify_popularity            float64\n",
       "youtube_views                  object\n",
       "youtube_likes                  object\n",
       "tiktok_posts                   object\n",
       "tiktok_likes                   object\n",
       "tiktok_views                   object\n",
       "youtube_playlist_reach         object\n",
       "apple_music_playlist_count    float64\n",
       "airplay_spins                  object\n",
       "siriusxm_spins                 object\n",
       "deezer_playlist_count         float64\n",
       "deezer_playlist_reach          object\n",
       "amazon_playlist_count         float64\n",
       "pandora_streams                object\n",
       "pandora_track_stations         object\n",
       "soundcloud_streams             object\n",
       "shazam_counts                  object\n",
       "tidal_popularity              float64\n",
       "explicit_track                  int64\n",
       "dtype: object"
      ]
     },
     "execution_count": 6,
     "metadata": {},
     "output_type": "execute_result"
    }
   ],
   "source": [
    "df.dtypes"
   ]
  },
  {
   "cell_type": "code",
   "execution_count": 10,
   "metadata": {},
   "outputs": [],
   "source": [
    "def clean_and_convert(column):\n",
    "    return column.str.replace(',','').astype(float).fillna(0).astype('int64')"
   ]
  },
  {
   "cell_type": "code",
   "execution_count": 11,
   "metadata": {},
   "outputs": [
    {
     "name": "stdout",
     "output_type": "stream",
     "text": [
      "columns with numeric data as string with commas:\n",
      "['All Time Rank', 'Spotify Streams', 'Spotify Playlist Count', 'Spotify Playlist Reach', 'YouTube Views', 'YouTube Likes', 'TikTok Posts', 'TikTok Likes', 'TikTok Views', 'YouTube Playlist Reach', 'AirPlay Spins', 'SiriusXM Spins', 'Deezer Playlist Reach', 'Pandora Streams', 'Pandora Track Stations', 'Soundcloud Streams', 'Shazam Counts']\n"
     ]
    },
    {
     "ename": "IntCastingNaNError",
     "evalue": "Cannot convert non-finite values (NA or inf) to integer",
     "output_type": "error",
     "traceback": [
      "\u001b[1;31m---------------------------------------------------------------------------\u001b[0m",
      "\u001b[1;31mIntCastingNaNError\u001b[0m                        Traceback (most recent call last)",
      "Cell \u001b[1;32mIn[11], line 14\u001b[0m\n\u001b[0;32m     11\u001b[0m \u001b[38;5;28mprint\u001b[39m(potential_numeric_columns)\n\u001b[0;32m     13\u001b[0m \u001b[38;5;28;01mfor\u001b[39;00m col \u001b[38;5;129;01min\u001b[39;00m potential_numeric_columns:\n\u001b[1;32m---> 14\u001b[0m     df[col] \u001b[38;5;241m=\u001b[39m \u001b[43mclean_and_convert\u001b[49m\u001b[43m(\u001b[49m\u001b[43mdf\u001b[49m\u001b[43m[\u001b[49m\u001b[43mcol\u001b[49m\u001b[43m]\u001b[49m\u001b[43m)\u001b[49m\n\u001b[0;32m     16\u001b[0m \u001b[38;5;28mprint\u001b[39m(df[potential_numeric_columns]\u001b[38;5;241m.\u001b[39mdtypes)\n",
      "Cell \u001b[1;32mIn[10], line 2\u001b[0m, in \u001b[0;36mclean_and_convert\u001b[1;34m(column)\u001b[0m\n\u001b[0;32m      1\u001b[0m \u001b[38;5;28;01mdef\u001b[39;00m \u001b[38;5;21mclean_and_convert\u001b[39m(column):\n\u001b[1;32m----> 2\u001b[0m     \u001b[38;5;28;01mreturn\u001b[39;00m \u001b[43mcolumn\u001b[49m\u001b[38;5;241;43m.\u001b[39;49m\u001b[43mstr\u001b[49m\u001b[38;5;241;43m.\u001b[39;49m\u001b[43mreplace\u001b[49m\u001b[43m(\u001b[49m\u001b[38;5;124;43m'\u001b[39;49m\u001b[38;5;124;43m,\u001b[39;49m\u001b[38;5;124;43m'\u001b[39;49m\u001b[43m,\u001b[49m\u001b[38;5;124;43m'\u001b[39;49m\u001b[38;5;124;43m'\u001b[39;49m\u001b[43m)\u001b[49m\u001b[38;5;241;43m.\u001b[39;49m\u001b[43mastype\u001b[49m\u001b[43m(\u001b[49m\u001b[38;5;28;43mfloat\u001b[39;49m\u001b[43m)\u001b[49m\u001b[38;5;241;43m.\u001b[39;49m\u001b[43mfillna\u001b[49m\u001b[43m(\u001b[49m\u001b[43mnp\u001b[49m\u001b[38;5;241;43m.\u001b[39;49m\u001b[43mnan\u001b[49m\u001b[43m)\u001b[49m\u001b[38;5;241;43m.\u001b[39;49m\u001b[43mastype\u001b[49m\u001b[43m(\u001b[49m\u001b[38;5;124;43m'\u001b[39;49m\u001b[38;5;124;43mint64\u001b[39;49m\u001b[38;5;124;43m'\u001b[39;49m\u001b[43m)\u001b[49m\n",
      "File \u001b[1;32mc:\\Users\\Sam\\AppData\\Local\\Programs\\Python\\Python312\\Lib\\site-packages\\pandas\\core\\generic.py:6643\u001b[0m, in \u001b[0;36mNDFrame.astype\u001b[1;34m(self, dtype, copy, errors)\u001b[0m\n\u001b[0;32m   6637\u001b[0m     results \u001b[38;5;241m=\u001b[39m [\n\u001b[0;32m   6638\u001b[0m         ser\u001b[38;5;241m.\u001b[39mastype(dtype, copy\u001b[38;5;241m=\u001b[39mcopy, errors\u001b[38;5;241m=\u001b[39merrors) \u001b[38;5;28;01mfor\u001b[39;00m _, ser \u001b[38;5;129;01min\u001b[39;00m \u001b[38;5;28mself\u001b[39m\u001b[38;5;241m.\u001b[39mitems()\n\u001b[0;32m   6639\u001b[0m     ]\n\u001b[0;32m   6641\u001b[0m \u001b[38;5;28;01melse\u001b[39;00m:\n\u001b[0;32m   6642\u001b[0m     \u001b[38;5;66;03m# else, only a single dtype is given\u001b[39;00m\n\u001b[1;32m-> 6643\u001b[0m     new_data \u001b[38;5;241m=\u001b[39m \u001b[38;5;28;43mself\u001b[39;49m\u001b[38;5;241;43m.\u001b[39;49m\u001b[43m_mgr\u001b[49m\u001b[38;5;241;43m.\u001b[39;49m\u001b[43mastype\u001b[49m\u001b[43m(\u001b[49m\u001b[43mdtype\u001b[49m\u001b[38;5;241;43m=\u001b[39;49m\u001b[43mdtype\u001b[49m\u001b[43m,\u001b[49m\u001b[43m \u001b[49m\u001b[43mcopy\u001b[49m\u001b[38;5;241;43m=\u001b[39;49m\u001b[43mcopy\u001b[49m\u001b[43m,\u001b[49m\u001b[43m \u001b[49m\u001b[43merrors\u001b[49m\u001b[38;5;241;43m=\u001b[39;49m\u001b[43merrors\u001b[49m\u001b[43m)\u001b[49m\n\u001b[0;32m   6644\u001b[0m     res \u001b[38;5;241m=\u001b[39m \u001b[38;5;28mself\u001b[39m\u001b[38;5;241m.\u001b[39m_constructor_from_mgr(new_data, axes\u001b[38;5;241m=\u001b[39mnew_data\u001b[38;5;241m.\u001b[39maxes)\n\u001b[0;32m   6645\u001b[0m     \u001b[38;5;28;01mreturn\u001b[39;00m res\u001b[38;5;241m.\u001b[39m__finalize__(\u001b[38;5;28mself\u001b[39m, method\u001b[38;5;241m=\u001b[39m\u001b[38;5;124m\"\u001b[39m\u001b[38;5;124mastype\u001b[39m\u001b[38;5;124m\"\u001b[39m)\n",
      "File \u001b[1;32mc:\\Users\\Sam\\AppData\\Local\\Programs\\Python\\Python312\\Lib\\site-packages\\pandas\\core\\internals\\managers.py:430\u001b[0m, in \u001b[0;36mBaseBlockManager.astype\u001b[1;34m(self, dtype, copy, errors)\u001b[0m\n\u001b[0;32m    427\u001b[0m \u001b[38;5;28;01melif\u001b[39;00m using_copy_on_write():\n\u001b[0;32m    428\u001b[0m     copy \u001b[38;5;241m=\u001b[39m \u001b[38;5;28;01mFalse\u001b[39;00m\n\u001b[1;32m--> 430\u001b[0m \u001b[38;5;28;01mreturn\u001b[39;00m \u001b[38;5;28;43mself\u001b[39;49m\u001b[38;5;241;43m.\u001b[39;49m\u001b[43mapply\u001b[49m\u001b[43m(\u001b[49m\n\u001b[0;32m    431\u001b[0m \u001b[43m    \u001b[49m\u001b[38;5;124;43m\"\u001b[39;49m\u001b[38;5;124;43mastype\u001b[39;49m\u001b[38;5;124;43m\"\u001b[39;49m\u001b[43m,\u001b[49m\n\u001b[0;32m    432\u001b[0m \u001b[43m    \u001b[49m\u001b[43mdtype\u001b[49m\u001b[38;5;241;43m=\u001b[39;49m\u001b[43mdtype\u001b[49m\u001b[43m,\u001b[49m\n\u001b[0;32m    433\u001b[0m \u001b[43m    \u001b[49m\u001b[43mcopy\u001b[49m\u001b[38;5;241;43m=\u001b[39;49m\u001b[43mcopy\u001b[49m\u001b[43m,\u001b[49m\n\u001b[0;32m    434\u001b[0m \u001b[43m    \u001b[49m\u001b[43merrors\u001b[49m\u001b[38;5;241;43m=\u001b[39;49m\u001b[43merrors\u001b[49m\u001b[43m,\u001b[49m\n\u001b[0;32m    435\u001b[0m \u001b[43m    \u001b[49m\u001b[43musing_cow\u001b[49m\u001b[38;5;241;43m=\u001b[39;49m\u001b[43musing_copy_on_write\u001b[49m\u001b[43m(\u001b[49m\u001b[43m)\u001b[49m\u001b[43m,\u001b[49m\n\u001b[0;32m    436\u001b[0m \u001b[43m\u001b[49m\u001b[43m)\u001b[49m\n",
      "File \u001b[1;32mc:\\Users\\Sam\\AppData\\Local\\Programs\\Python\\Python312\\Lib\\site-packages\\pandas\\core\\internals\\managers.py:363\u001b[0m, in \u001b[0;36mBaseBlockManager.apply\u001b[1;34m(self, f, align_keys, **kwargs)\u001b[0m\n\u001b[0;32m    361\u001b[0m         applied \u001b[38;5;241m=\u001b[39m b\u001b[38;5;241m.\u001b[39mapply(f, \u001b[38;5;241m*\u001b[39m\u001b[38;5;241m*\u001b[39mkwargs)\n\u001b[0;32m    362\u001b[0m     \u001b[38;5;28;01melse\u001b[39;00m:\n\u001b[1;32m--> 363\u001b[0m         applied \u001b[38;5;241m=\u001b[39m \u001b[38;5;28;43mgetattr\u001b[39;49m\u001b[43m(\u001b[49m\u001b[43mb\u001b[49m\u001b[43m,\u001b[49m\u001b[43m \u001b[49m\u001b[43mf\u001b[49m\u001b[43m)\u001b[49m\u001b[43m(\u001b[49m\u001b[38;5;241;43m*\u001b[39;49m\u001b[38;5;241;43m*\u001b[39;49m\u001b[43mkwargs\u001b[49m\u001b[43m)\u001b[49m\n\u001b[0;32m    364\u001b[0m     result_blocks \u001b[38;5;241m=\u001b[39m extend_blocks(applied, result_blocks)\n\u001b[0;32m    366\u001b[0m out \u001b[38;5;241m=\u001b[39m \u001b[38;5;28mtype\u001b[39m(\u001b[38;5;28mself\u001b[39m)\u001b[38;5;241m.\u001b[39mfrom_blocks(result_blocks, \u001b[38;5;28mself\u001b[39m\u001b[38;5;241m.\u001b[39maxes)\n",
      "File \u001b[1;32mc:\\Users\\Sam\\AppData\\Local\\Programs\\Python\\Python312\\Lib\\site-packages\\pandas\\core\\internals\\blocks.py:758\u001b[0m, in \u001b[0;36mBlock.astype\u001b[1;34m(self, dtype, copy, errors, using_cow, squeeze)\u001b[0m\n\u001b[0;32m    755\u001b[0m         \u001b[38;5;28;01mraise\u001b[39;00m \u001b[38;5;167;01mValueError\u001b[39;00m(\u001b[38;5;124m\"\u001b[39m\u001b[38;5;124mCan not squeeze with more than one column.\u001b[39m\u001b[38;5;124m\"\u001b[39m)\n\u001b[0;32m    756\u001b[0m     values \u001b[38;5;241m=\u001b[39m values[\u001b[38;5;241m0\u001b[39m, :]  \u001b[38;5;66;03m# type: ignore[call-overload]\u001b[39;00m\n\u001b[1;32m--> 758\u001b[0m new_values \u001b[38;5;241m=\u001b[39m \u001b[43mastype_array_safe\u001b[49m\u001b[43m(\u001b[49m\u001b[43mvalues\u001b[49m\u001b[43m,\u001b[49m\u001b[43m \u001b[49m\u001b[43mdtype\u001b[49m\u001b[43m,\u001b[49m\u001b[43m \u001b[49m\u001b[43mcopy\u001b[49m\u001b[38;5;241;43m=\u001b[39;49m\u001b[43mcopy\u001b[49m\u001b[43m,\u001b[49m\u001b[43m \u001b[49m\u001b[43merrors\u001b[49m\u001b[38;5;241;43m=\u001b[39;49m\u001b[43merrors\u001b[49m\u001b[43m)\u001b[49m\n\u001b[0;32m    760\u001b[0m new_values \u001b[38;5;241m=\u001b[39m maybe_coerce_values(new_values)\n\u001b[0;32m    762\u001b[0m refs \u001b[38;5;241m=\u001b[39m \u001b[38;5;28;01mNone\u001b[39;00m\n",
      "File \u001b[1;32mc:\\Users\\Sam\\AppData\\Local\\Programs\\Python\\Python312\\Lib\\site-packages\\pandas\\core\\dtypes\\astype.py:237\u001b[0m, in \u001b[0;36mastype_array_safe\u001b[1;34m(values, dtype, copy, errors)\u001b[0m\n\u001b[0;32m    234\u001b[0m     dtype \u001b[38;5;241m=\u001b[39m dtype\u001b[38;5;241m.\u001b[39mnumpy_dtype\n\u001b[0;32m    236\u001b[0m \u001b[38;5;28;01mtry\u001b[39;00m:\n\u001b[1;32m--> 237\u001b[0m     new_values \u001b[38;5;241m=\u001b[39m \u001b[43mastype_array\u001b[49m\u001b[43m(\u001b[49m\u001b[43mvalues\u001b[49m\u001b[43m,\u001b[49m\u001b[43m \u001b[49m\u001b[43mdtype\u001b[49m\u001b[43m,\u001b[49m\u001b[43m \u001b[49m\u001b[43mcopy\u001b[49m\u001b[38;5;241;43m=\u001b[39;49m\u001b[43mcopy\u001b[49m\u001b[43m)\u001b[49m\n\u001b[0;32m    238\u001b[0m \u001b[38;5;28;01mexcept\u001b[39;00m (\u001b[38;5;167;01mValueError\u001b[39;00m, \u001b[38;5;167;01mTypeError\u001b[39;00m):\n\u001b[0;32m    239\u001b[0m     \u001b[38;5;66;03m# e.g. _astype_nansafe can fail on object-dtype of strings\u001b[39;00m\n\u001b[0;32m    240\u001b[0m     \u001b[38;5;66;03m#  trying to convert to float\u001b[39;00m\n\u001b[0;32m    241\u001b[0m     \u001b[38;5;28;01mif\u001b[39;00m errors \u001b[38;5;241m==\u001b[39m \u001b[38;5;124m\"\u001b[39m\u001b[38;5;124mignore\u001b[39m\u001b[38;5;124m\"\u001b[39m:\n",
      "File \u001b[1;32mc:\\Users\\Sam\\AppData\\Local\\Programs\\Python\\Python312\\Lib\\site-packages\\pandas\\core\\dtypes\\astype.py:182\u001b[0m, in \u001b[0;36mastype_array\u001b[1;34m(values, dtype, copy)\u001b[0m\n\u001b[0;32m    179\u001b[0m     values \u001b[38;5;241m=\u001b[39m values\u001b[38;5;241m.\u001b[39mastype(dtype, copy\u001b[38;5;241m=\u001b[39mcopy)\n\u001b[0;32m    181\u001b[0m \u001b[38;5;28;01melse\u001b[39;00m:\n\u001b[1;32m--> 182\u001b[0m     values \u001b[38;5;241m=\u001b[39m \u001b[43m_astype_nansafe\u001b[49m\u001b[43m(\u001b[49m\u001b[43mvalues\u001b[49m\u001b[43m,\u001b[49m\u001b[43m \u001b[49m\u001b[43mdtype\u001b[49m\u001b[43m,\u001b[49m\u001b[43m \u001b[49m\u001b[43mcopy\u001b[49m\u001b[38;5;241;43m=\u001b[39;49m\u001b[43mcopy\u001b[49m\u001b[43m)\u001b[49m\n\u001b[0;32m    184\u001b[0m \u001b[38;5;66;03m# in pandas we don't store numpy str dtypes, so convert to object\u001b[39;00m\n\u001b[0;32m    185\u001b[0m \u001b[38;5;28;01mif\u001b[39;00m \u001b[38;5;28misinstance\u001b[39m(dtype, np\u001b[38;5;241m.\u001b[39mdtype) \u001b[38;5;129;01mand\u001b[39;00m \u001b[38;5;28missubclass\u001b[39m(values\u001b[38;5;241m.\u001b[39mdtype\u001b[38;5;241m.\u001b[39mtype, \u001b[38;5;28mstr\u001b[39m):\n",
      "File \u001b[1;32mc:\\Users\\Sam\\AppData\\Local\\Programs\\Python\\Python312\\Lib\\site-packages\\pandas\\core\\dtypes\\astype.py:101\u001b[0m, in \u001b[0;36m_astype_nansafe\u001b[1;34m(arr, dtype, copy, skipna)\u001b[0m\n\u001b[0;32m     96\u001b[0m     \u001b[38;5;28;01mreturn\u001b[39;00m lib\u001b[38;5;241m.\u001b[39mensure_string_array(\n\u001b[0;32m     97\u001b[0m         arr, skipna\u001b[38;5;241m=\u001b[39mskipna, convert_na_value\u001b[38;5;241m=\u001b[39m\u001b[38;5;28;01mFalse\u001b[39;00m\n\u001b[0;32m     98\u001b[0m     )\u001b[38;5;241m.\u001b[39mreshape(shape)\n\u001b[0;32m    100\u001b[0m \u001b[38;5;28;01melif\u001b[39;00m np\u001b[38;5;241m.\u001b[39missubdtype(arr\u001b[38;5;241m.\u001b[39mdtype, np\u001b[38;5;241m.\u001b[39mfloating) \u001b[38;5;129;01mand\u001b[39;00m dtype\u001b[38;5;241m.\u001b[39mkind \u001b[38;5;129;01min\u001b[39;00m \u001b[38;5;124m\"\u001b[39m\u001b[38;5;124miu\u001b[39m\u001b[38;5;124m\"\u001b[39m:\n\u001b[1;32m--> 101\u001b[0m     \u001b[38;5;28;01mreturn\u001b[39;00m \u001b[43m_astype_float_to_int_nansafe\u001b[49m\u001b[43m(\u001b[49m\u001b[43marr\u001b[49m\u001b[43m,\u001b[49m\u001b[43m \u001b[49m\u001b[43mdtype\u001b[49m\u001b[43m,\u001b[49m\u001b[43m \u001b[49m\u001b[43mcopy\u001b[49m\u001b[43m)\u001b[49m\n\u001b[0;32m    103\u001b[0m \u001b[38;5;28;01melif\u001b[39;00m arr\u001b[38;5;241m.\u001b[39mdtype \u001b[38;5;241m==\u001b[39m \u001b[38;5;28mobject\u001b[39m:\n\u001b[0;32m    104\u001b[0m     \u001b[38;5;66;03m# if we have a datetime/timedelta array of objects\u001b[39;00m\n\u001b[0;32m    105\u001b[0m     \u001b[38;5;66;03m# then coerce to datetime64[ns] and use DatetimeArray.astype\u001b[39;00m\n\u001b[0;32m    107\u001b[0m     \u001b[38;5;28;01mif\u001b[39;00m lib\u001b[38;5;241m.\u001b[39mis_np_dtype(dtype, \u001b[38;5;124m\"\u001b[39m\u001b[38;5;124mM\u001b[39m\u001b[38;5;124m\"\u001b[39m):\n",
      "File \u001b[1;32mc:\\Users\\Sam\\AppData\\Local\\Programs\\Python\\Python312\\Lib\\site-packages\\pandas\\core\\dtypes\\astype.py:145\u001b[0m, in \u001b[0;36m_astype_float_to_int_nansafe\u001b[1;34m(values, dtype, copy)\u001b[0m\n\u001b[0;32m    141\u001b[0m \u001b[38;5;250m\u001b[39m\u001b[38;5;124;03m\"\"\"\u001b[39;00m\n\u001b[0;32m    142\u001b[0m \u001b[38;5;124;03mastype with a check preventing converting NaN to an meaningless integer value.\u001b[39;00m\n\u001b[0;32m    143\u001b[0m \u001b[38;5;124;03m\"\"\"\u001b[39;00m\n\u001b[0;32m    144\u001b[0m \u001b[38;5;28;01mif\u001b[39;00m \u001b[38;5;129;01mnot\u001b[39;00m np\u001b[38;5;241m.\u001b[39misfinite(values)\u001b[38;5;241m.\u001b[39mall():\n\u001b[1;32m--> 145\u001b[0m     \u001b[38;5;28;01mraise\u001b[39;00m IntCastingNaNError(\n\u001b[0;32m    146\u001b[0m         \u001b[38;5;124m\"\u001b[39m\u001b[38;5;124mCannot convert non-finite values (NA or inf) to integer\u001b[39m\u001b[38;5;124m\"\u001b[39m\n\u001b[0;32m    147\u001b[0m     )\n\u001b[0;32m    148\u001b[0m \u001b[38;5;28;01mif\u001b[39;00m dtype\u001b[38;5;241m.\u001b[39mkind \u001b[38;5;241m==\u001b[39m \u001b[38;5;124m\"\u001b[39m\u001b[38;5;124mu\u001b[39m\u001b[38;5;124m\"\u001b[39m:\n\u001b[0;32m    149\u001b[0m     \u001b[38;5;66;03m# GH#45151\u001b[39;00m\n\u001b[0;32m    150\u001b[0m     \u001b[38;5;28;01mif\u001b[39;00m \u001b[38;5;129;01mnot\u001b[39;00m (values \u001b[38;5;241m>\u001b[39m\u001b[38;5;241m=\u001b[39m \u001b[38;5;241m0\u001b[39m)\u001b[38;5;241m.\u001b[39mall():\n",
      "\u001b[1;31mIntCastingNaNError\u001b[0m: Cannot convert non-finite values (NA or inf) to integer"
     ]
    }
   ],
   "source": [
    "potential_numeric_columns = []\n",
    " \n",
    "for col in df.select_dtypes(include='object').columns:\n",
    "    try:\n",
    "        df[col].str.replace(',','').astype(float)\n",
    "        potential_numeric_columns.append(col)\n",
    "    except ValueError:\n",
    "        pass\n",
    " \n",
    "print(\"columns with numeric data as string with commas:\")\n",
    "print(potential_numeric_columns)\n",
    " \n",
    "for col in potential_numeric_columns:\n",
    "    df[col] = clean_and_convert(df[col])\n",
    " \n",
    "print(df[potential_numeric_columns].dtypes)"
   ]
  },
  {
   "cell_type": "code",
   "execution_count": null,
   "metadata": {},
   "outputs": [],
   "source": [
    "df.dtypes"
   ]
  },
  {
   "cell_type": "code",
   "execution_count": null,
   "metadata": {},
   "outputs": [],
   "source": [
    "df['release_date'] = pd.to_datetime(df['release_date'])"
   ]
  },
  {
   "cell_type": "code",
   "execution_count": null,
   "metadata": {},
   "outputs": [],
   "source": [
    "df.info()"
   ]
  },
  {
   "cell_type": "code",
   "execution_count": null,
   "metadata": {},
   "outputs": [],
   "source": [
    "null_counts = df.isnull().sum()\n",
    "print(null_counts)"
   ]
  },
  {
   "cell_type": "code",
   "execution_count": null,
   "metadata": {},
   "outputs": [],
   "source": [
    "null_percentage = df.isnull().mean() * 100\n",
    "print(null_percentage)"
   ]
  },
  {
   "cell_type": "markdown",
   "metadata": {},
   "source": [
    "what to do with null values\n",
    "\n",
    "impute:\n",
    " - fill those values with information from its column\n",
    " - mode: most common\n",
    " - mean: average\n",
    " - min, max, etc\n",
    " - constant: the actual value\n",
    "\n",
    " example\n",
    " age:\n",
    " - 15% null values\n",
    " - impute with mean\n",
    "\n",
    " titanic:\n",
    " - 0/1 not/survived\n",
    " - mode: most common value"
   ]
  },
  {
   "cell_type": "code",
   "execution_count": null,
   "metadata": {},
   "outputs": [],
   "source": [
    "columns_to_impute = null_percentage[(null_percentage < 45) & (df.dtypes != 'object')].index\n",
    "\n",
    "for column in columns_to_impute:\n",
    "    if pd.api.types.is_integer_dtype(df[column]):\n",
    "        mean_value = int(df[column].mean())\n",
    "    else:\n",
    "        mean_value = df[column].mean()\n",
    "        df[column].fillna(mean_value, inplace=True)"
   ]
  },
  {
   "cell_type": "code",
   "execution_count": null,
   "metadata": {},
   "outputs": [],
   "source": [
    "null_percentage = df.isnull().mean() * 100\n",
    "print(null_percentage)"
   ]
  },
  {
   "cell_type": "code",
   "execution_count": null,
   "metadata": {},
   "outputs": [],
   "source": [
    "df['album_name'].fillna('unknown', inplace=True)\n",
    "\n",
    "# same thing df['album_name'] = df['album_name'].fillna('unknown')\n",
    "\n",
    "df['artist'].fillna('unknown', inplace=True)"
   ]
  },
  {
   "cell_type": "code",
   "execution_count": null,
   "metadata": {},
   "outputs": [],
   "source": [
    "columns_to_drop = ['tidal_popularity', 'soundcloud_streams', 'siriusxm_spins', 'isrc']\n",
    "df.drop(columns=columns_to_drop, inplace=True)"
   ]
  },
  {
   "cell_type": "code",
   "execution_count": null,
   "metadata": {},
   "outputs": [],
   "source": [
    "null_percentage = df.isnull().mean() * 100\n",
    "print(null_percentage)"
   ]
  },
  {
   "cell_type": "code",
   "execution_count": null,
   "metadata": {},
   "outputs": [],
   "source": [
    "duplicates = df.duplicated().sum()\n",
    "print(f'duplicate rows: {duplicates}')"
   ]
  },
  {
   "cell_type": "code",
   "execution_count": null,
   "metadata": {},
   "outputs": [],
   "source": [
    "duplicates = df[df.duplicated(keep=False)]\n",
    "duplicates"
   ]
  },
  {
   "cell_type": "code",
   "execution_count": null,
   "metadata": {},
   "outputs": [],
   "source": [
    "df = df.drop_duplicates()\n",
    "df.duplicated().sum()"
   ]
  },
  {
   "cell_type": "markdown",
   "metadata": {},
   "source": [
    "Outliers\n",
    "\n",
    "detects:\n",
    "- math: IQR- Zscore\n",
    "- visual: boxplot/histogram"
   ]
  },
  {
   "cell_type": "code",
   "execution_count": null,
   "metadata": {},
   "outputs": [],
   "source": [
    "import matplotlib.pyplot as plt\n",
    "import seaborn as sns"
   ]
  },
  {
   "cell_type": "code",
   "execution_count": null,
   "metadata": {},
   "outputs": [],
   "source": [
    "plt.figure(figsize= (12,8))\n",
    "sns.boxenplot(data=df.select_dtypes(include=[float, int]))\n",
    "\n",
    "plt.title('Box plots of numeric columns')\n",
    "plt.xlabel('columns')\n",
    "plt.ylabel('value')\n",
    "\n",
    "plt.xticks(rotation=90)\n",
    "plt.tight_layout()\n",
    "plt.show()"
   ]
  },
  {
   "cell_type": "code",
   "execution_count": null,
   "metadata": {},
   "outputs": [],
   "source": [
    "#same as above without formatting\n",
    "\n",
    "#plt.figure(figsize= (12,8))\n",
    "sns.boxenplot(data=df.select_dtypes(include=[float, int]))\n",
    "\n",
    "#plt.title('Box plots of numeric columns')\n",
    "#plt.xlabel('columns')\n",
    "#plt.ylabel('value')\n",
    "\n",
    "#plt.xticks(rotation=90)\n",
    "#plt.tight_layout()\n",
    "#plt.show()"
   ]
  },
  {
   "cell_type": "code",
   "execution_count": null,
   "metadata": {},
   "outputs": [],
   "source": [
    "#watch vid to catch"
   ]
  },
  {
   "cell_type": "markdown",
   "metadata": {},
   "source": [
    "what we talked about\n",
    "\n",
    "bulk of our transformations\n",
    "\n",
    "E- extract \n",
    "\n",
    "- aquired data, load in with file, used pandas to read_csv\n",
    "\n",
    "T- transform\n",
    "\n",
    "- cleaing column names\n",
    "- checking for duplicates\n",
    "- changed datatypes\n",
    "- filled in null values (impute)\n",
    "- dropped other null values\n",
    "- checked outliers (keep those for now)\n",
    "\n",
    "L- load \n",
    "\n",
    "- (add it to repo, file, etc) so we can use it later (already clean)\n",
    "- loading it into SQL (gold layer)\n",
    "\n",
    "SQL / Database:\n",
    "- Bronze: raw data (data engineers)\n",
    "- Silver: transformed, cleaned (what we do, turn into this)\n",
    "- Gold: SQL, ready to go (sql, queries)\n",
    "\n"
   ]
  },
  {
   "cell_type": "code",
   "execution_count": null,
   "metadata": {},
   "outputs": [],
   "source": [
    "df.info()"
   ]
  },
  {
   "cell_type": "code",
   "execution_count": null,
   "metadata": {},
   "outputs": [],
   "source": [
    "#creating year column from release date year\n",
    "df['release_year'] = df['release_date'].dt.year"
   ]
  },
  {
   "cell_type": "code",
   "execution_count": null,
   "metadata": {},
   "outputs": [],
   "source": [
    "df.head()"
   ]
  },
  {
   "cell_type": "code",
   "execution_count": null,
   "metadata": {},
   "outputs": [],
   "source": [
    "df['release_month'] = df['release_date'].dt.month\n",
    "df['release_day'] = df['release_date'].dt.day\n"
   ]
  },
  {
   "cell_type": "code",
   "execution_count": null,
   "metadata": {},
   "outputs": [],
   "source": [
    "df.head()"
   ]
  },
  {
   "cell_type": "code",
   "execution_count": null,
   "metadata": {},
   "outputs": [],
   "source": [
    "df['month_name'] = df['release_date'].dt.strftime('%B')\n",
    "# same thing df['month_name'] = df['release_date'].dt.month_name"
   ]
  },
  {
   "cell_type": "code",
   "execution_count": null,
   "metadata": {},
   "outputs": [],
   "source": [
    "df.head()"
   ]
  },
  {
   "cell_type": "code",
   "execution_count": null,
   "metadata": {},
   "outputs": [],
   "source": [
    "df['weekday'] = df['release_date'].dt.strftime('%A')\n",
    "#same thing df['weekday'] = df['release_date'].dt.day_name"
   ]
  },
  {
   "cell_type": "code",
   "execution_count": null,
   "metadata": {},
   "outputs": [],
   "source": [
    "df.head()"
   ]
  },
  {
   "cell_type": "markdown",
   "metadata": {},
   "source": [
    "Feature engineering:\n",
    "\n",
    "- creation (done above)\n",
    "    - creating new columns from existing data\n",
    "- binning (done below)\n",
    "    - creating segments and labeling them\n",
    "- aggregation (done below)"
   ]
  },
  {
   "cell_type": "code",
   "execution_count": null,
   "metadata": {},
   "outputs": [],
   "source": [
    "#binning (if we hadn't already converted our datatypes)\n",
    "#step 1\n",
    "df['track_score'] = pd.to_numeric(df['track_score'])"
   ]
  },
  {
   "cell_type": "code",
   "execution_count": null,
   "metadata": {},
   "outputs": [],
   "source": [
    "# step 2\n",
    "print(df['track_score'].describe())\n",
    "print(df['track_score'].min(), df['track_score'].max())"
   ]
  },
  {
   "cell_type": "code",
   "execution_count": null,
   "metadata": {},
   "outputs": [],
   "source": [
    "#step 3\n",
    "#define those bins\n",
    "bins = [19.4, 50, 100, 200, 400, 725.4]\n",
    "#created labels for bins\n",
    "labels = ['very low', 'low', 'medium', 'high', 'very high']\n",
    "\n",
    "df['track_score_bins'] = pd.cut(df['track_score'], bins=bins, labels=labels)\n"
   ]
  },
  {
   "cell_type": "code",
   "execution_count": null,
   "metadata": {},
   "outputs": [],
   "source": [
    "df.head()"
   ]
  },
  {
   "cell_type": "code",
   "execution_count": null,
   "metadata": {},
   "outputs": [],
   "source": [
    "df.sample(10)"
   ]
  },
  {
   "cell_type": "code",
   "execution_count": null,
   "metadata": {},
   "outputs": [],
   "source": [
    "df['track_score_bins'].value_counts()"
   ]
  },
  {
   "cell_type": "code",
   "execution_count": null,
   "metadata": {},
   "outputs": [],
   "source": [
    "#aggregation\n",
    "artist_streams = df.groupby('artist')['spotify_streams'].sum().reset_index()\n",
    "artist_streams"
   ]
  },
  {
   "cell_type": "markdown",
   "metadata": {},
   "source": [
    "extract/aquire > transform/prepare > explore > model > load/deliver\n",
    "\n",
    "Exploration purpose:\n",
    "- outliers/anamolies\n",
    "- visualize trends in data\n",
    "    - ex. a store looking at trends for next holiday season (time series analysis)\n",
    "- patterns\n",
    "    - ex. some stores/artists make more sales than others\n",
    "\n",
    "Tools/libraries:\n",
    "- matplotlib - versatile, has more specification\n",
    "- seaborn - easy to use, built with matplotlib, syntax is straight forward\n",
    "\n",
    "Types of exploration\n",
    "- unicariate - one\n",
    "- bivariate - two\n",
    "- multi-variate - more than 2\n"
   ]
  },
  {
   "cell_type": "markdown",
   "metadata": {},
   "source": [
    "Univariate exploration:\n",
    "- looking at one variable and looking for its distribution\n",
    "- histogram\n",
    "- boxplot (outliers)"
   ]
  },
  {
   "cell_type": "code",
   "execution_count": null,
   "metadata": {},
   "outputs": [],
   "source": [
    "plt.figure(figsize=(10,6))\n",
    "sns.histplot(df['spotify_streams'], kde=True, color='purple')\n",
    "plt.title('Distribution of Spotify Streams')\n",
    "plt.xlabel('Spotify Streams')\n",
    "plt.ylabel('Frequency')\n",
    "plt.show()"
   ]
  },
  {
   "cell_type": "code",
   "execution_count": null,
   "metadata": {},
   "outputs": [],
   "source": [
    "plt.figure(figsize=(10,6))\n",
    "sns.boxplot(x=df['youtube_views'])\n",
    "plt.title('Boxplot of Youtube Views')\n",
    "plt.xlabel('Youtube Views')\n",
    "plt.show()"
   ]
  },
  {
   "cell_type": "code",
   "execution_count": null,
   "metadata": {},
   "outputs": [],
   "source": [
    "plt.figure(figsize=(10,6))\n",
    "sns.countplot(x='track_score_bins', data=df)\n",
    "plt.title('Number of Tracks by Score Bin')\n",
    "plt.xlabel('Track Score Bin')\n",
    "plt.ylabel('Count')\n",
    "plt.show()"
   ]
  },
  {
   "cell_type": "markdown",
   "metadata": {},
   "source": [
    "Bivariate exploration\n",
    "- relationships between two variables\n",
    "- one variable on the x axis, one variable on the y axis\n",
    "\n",
    "- scatterplot\n",
    "- stacked barplot\n",
    "- line plots"
   ]
  },
  {
   "cell_type": "code",
   "execution_count": null,
   "metadata": {},
   "outputs": [],
   "source": [
    "monthly_counts = df.groupby(['month_name', 'track_score_bins']).size().unstack(fill_value=0)\n",
    "\n",
    "plt.figure(figsize=(14,8))\n",
    "\n",
    "monthly_counts.plot(kind='bar', stacked=True, colormap='Set2')\n",
    "\n",
    "plt.title('Distribution of Track Score Bines by Month')\n",
    "plt.xlabel('Release Month')\n",
    "plt.ylabel('Count')\n",
    "plt.xticks(rotation=45)\n",
    "plt.legend(title='Track Score Bins')\n",
    "plt.grid(True, linestyle='--', alpha=0.7)\n",
    "plt.tight_layout()\n",
    "plt.show()"
   ]
  },
  {
   "cell_type": "code",
   "execution_count": null,
   "metadata": {},
   "outputs": [],
   "source": [
    "#relational plot\n",
    "sns.relplot(data=df, x='spotify_popularity', y='youtube_views', kind='line')"
   ]
  },
  {
   "cell_type": "markdown",
   "metadata": {},
   "source": [
    "Multi-Variate:\n",
    "- more than 2 features\n",
    "- heatmaps\n",
    "- correlations\n",
    "- pairplots\n",
    "- facet grid (subplotting)"
   ]
  },
  {
   "cell_type": "code",
   "execution_count": null,
   "metadata": {},
   "outputs": [],
   "source": [
    "plt.figure(figsize=(12, 10))\n",
    "corr= df[['spotify_streams','youtube_views','tiktok_views','apple_music_playlist_count']]\n",
    "sns.heatmap(corr, annot=True, cmap='coolwarm', vmin=1, vmax=1)\n",
    "plt.title('Correlation Heatmap')\n",
    "plt.show()"
   ]
  },
  {
   "cell_type": "code",
   "execution_count": null,
   "metadata": {},
   "outputs": [],
   "source": [
    "sns.pairplot(df[['spotify_streams','youtube_views','tiktok_views','apple_music_playlist_count']])\n",
    "plt.show()"
   ]
  },
  {
   "cell_type": "code",
   "execution_count": null,
   "metadata": {},
   "outputs": [],
   "source": [
    "#FaceGrid: Multivariate\n",
    "\n",
    "g= sns.FacetGrid(df, col='track_score_bins', col_wrap=4, height=4)\n",
    "g.map(sns.histplot, 'spotify_streams')\n",
    "plt.show()"
   ]
  },
  {
   "cell_type": "code",
   "execution_count": null,
   "metadata": {},
   "outputs": [],
   "source": [
    "print(df['release_year'].min(), df['release_year'].max())"
   ]
  },
  {
   "cell_type": "code",
   "execution_count": null,
   "metadata": {},
   "outputs": [],
   "source": [
    "#step 1 - create bins\n",
    "bins = list(range(1985,2025, 5))\n",
    "labels = [f'{start}-{end-1}' for start, end in zip(bins[:-1], bins[1:])]\n",
    "\n",
    "#step 2 - name the column for bins we created\n",
    "df['release_year_bin'] = pd.cut(df['release_year'], bins=bins, labels=labels, right=False)\n",
    "\n",
    "avg_streams_by_bin = df.groupby('release_year_bin')['spotify_streams'].mean()\n",
    "\n",
    "plt.figure(figsize=(14,7))\n",
    "avg_streams_by_bin.plot(kind='bar', color='c')\n",
    "plt.title('Average Spotify Streams by Release Year Bin')\n",
    "plt.xlabel('Release Year Bin')\n",
    "plt.ylabel('Average Spotify Streams')\n",
    "plt.xticks(rotation=45)\n",
    "plt.grid(axis='y')\n",
    "plt.tight_layout()\n",
    "plt.show()"
   ]
  },
  {
   "cell_type": "code",
   "execution_count": null,
   "metadata": {},
   "outputs": [],
   "source": []
  }
 ],
 "metadata": {
  "kernelspec": {
   "display_name": "Python 3",
   "language": "python",
   "name": "python3"
  },
  "language_info": {
   "codemirror_mode": {
    "name": "ipython",
    "version": 3
   },
   "file_extension": ".py",
   "mimetype": "text/x-python",
   "name": "python",
   "nbconvert_exporter": "python",
   "pygments_lexer": "ipython3",
   "version": "3.12.4"
  }
 },
 "nbformat": 4,
 "nbformat_minor": 2
}
