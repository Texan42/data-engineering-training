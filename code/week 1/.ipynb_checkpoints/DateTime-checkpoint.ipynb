{
 "cells": [
  {
   "cell_type": "code",
   "execution_count": 1,
   "id": "7a62d97e-c282-4978-a5a6-8f4942fc6240",
   "metadata": {},
   "outputs": [],
   "source": [
    "#date time"
   ]
  },
  {
   "cell_type": "code",
   "execution_count": 2,
   "id": "1f1d9db7-0979-46f3-af5b-41c7de738f69",
   "metadata": {},
   "outputs": [],
   "source": [
    "import datetime"
   ]
  },
  {
   "cell_type": "code",
   "execution_count": 4,
   "id": "f2f9500d-5b7e-40a9-96c8-31069eeced8c",
   "metadata": {},
   "outputs": [
    {
     "name": "stdout",
     "output_type": "stream",
     "text": [
      "2024-07-29\n"
     ]
    }
   ],
   "source": [
    "#.today - gives year, month, day\n",
    "print(datetime.date.today())"
   ]
  },
  {
   "cell_type": "code",
   "execution_count": 8,
   "id": "25d6f071-1634-4222-afa3-8477596c7374",
   "metadata": {},
   "outputs": [
    {
     "name": "stdout",
     "output_type": "stream",
     "text": [
      "2024-07-29 10:19:26.579282\n"
     ]
    }
   ],
   "source": [
    "#.now - year, month, day, hour, minute, second, micro\n",
    "print(datetime.datetime.now())"
   ]
  },
  {
   "cell_type": "code",
   "execution_count": 9,
   "id": "6b0ff389-fa46-457c-8bb6-7be8c5136660",
   "metadata": {},
   "outputs": [],
   "source": [
    "now = datetime.datetime.now()"
   ]
  },
  {
   "cell_type": "code",
   "execution_count": 11,
   "id": "67e9323d-cb5a-4617-bd66-d1c368d0e282",
   "metadata": {},
   "outputs": [
    {
     "name": "stdout",
     "output_type": "stream",
     "text": [
      "Monday\n"
     ]
    }
   ],
   "source": [
    "# %A = what day of the week is it\n",
    "print(now.strftime('%A'))"
   ]
  },
  {
   "cell_type": "code",
   "execution_count": 14,
   "id": "56396eb7-3e89-49c8-8d11-e60723295cb4",
   "metadata": {},
   "outputs": [
    {
     "name": "stdout",
     "output_type": "stream",
     "text": [
      "July 29, 2024\n"
     ]
    }
   ],
   "source": [
    "# strftime = string formatting time\n",
    "print(now.strftime('%B %d, %Y'))"
   ]
  },
  {
   "cell_type": "code",
   "execution_count": 15,
   "id": "0e7c30a3-37d6-490f-b30c-192a65602ede",
   "metadata": {},
   "outputs": [
    {
     "name": "stdout",
     "output_type": "stream",
     "text": [
      "29-07-24\n"
     ]
    }
   ],
   "source": [
    "print(now.strftime('%d-%m-%y'))"
   ]
  },
  {
   "cell_type": "code",
   "execution_count": 16,
   "id": "6d0d4113-12f5-40a7-9e7f-f11ab1f8830e",
   "metadata": {},
   "outputs": [
    {
     "name": "stdout",
     "output_type": "stream",
     "text": [
      "10:20:10\n"
     ]
    }
   ],
   "source": [
    "print(now.strftime('%H:%M:%S'))"
   ]
  },
  {
   "cell_type": "code",
   "execution_count": 21,
   "id": "72692a90-2983-4f14-9208-a7e4137b538e",
   "metadata": {},
   "outputs": [
    {
     "name": "stdout",
     "output_type": "stream",
     "text": [
      "24-hour format: 19:30\n"
     ]
    }
   ],
   "source": [
    "time_string = \"7:30 PM\"\n",
    "time_24_hour = datetime.datetime.strptime(time_string, \"%I:%M %p\").strftime(\"%H:%M\")\n",
    "print(\"24-hour format:\", time_24_hour)"
   ]
  },
  {
   "cell_type": "code",
   "execution_count": null,
   "id": "99ad0cae-baec-447e-bf62-4e48746873e2",
   "metadata": {},
   "outputs": [],
   "source": []
  }
 ],
 "metadata": {
  "kernelspec": {
   "display_name": "Python 3 (ipykernel)",
   "language": "python",
   "name": "python3"
  },
  "language_info": {
   "codemirror_mode": {
    "name": "ipython",
    "version": 3
   },
   "file_extension": ".py",
   "mimetype": "text/x-python",
   "name": "python",
   "nbconvert_exporter": "python",
   "pygments_lexer": "ipython3",
   "version": "3.12.4"
  }
 },
 "nbformat": 4,
 "nbformat_minor": 5
}
