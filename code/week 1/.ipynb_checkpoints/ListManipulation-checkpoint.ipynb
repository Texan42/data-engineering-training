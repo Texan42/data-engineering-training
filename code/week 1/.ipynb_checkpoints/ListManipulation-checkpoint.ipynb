{
 "cells": [
  {
   "cell_type": "code",
   "execution_count": 1,
   "id": "4fca2656-74c6-4cad-a468-244786c6ae80",
   "metadata": {},
   "outputs": [],
   "source": [
    "fruits = ['apple', 'cherry', 'bananas', 'oranges', 'peach', 'grape']"
   ]
  },
  {
   "cell_type": "code",
   "execution_count": 2,
   "id": "945736c7-cbb5-4f17-955f-60779d6887a9",
   "metadata": {},
   "outputs": [
    {
     "name": "stdout",
     "output_type": "stream",
     "text": [
      "['apple', 'cherry', 'bananas', 'oranges', 'peach', 'grape']\n"
     ]
    }
   ],
   "source": [
    "print(fruits)"
   ]
  },
  {
   "cell_type": "code",
   "execution_count": 3,
   "id": "09e00121-60c6-43f0-a55f-9d3eabce60e2",
   "metadata": {},
   "outputs": [
    {
     "name": "stdout",
     "output_type": "stream",
     "text": [
      "peach\n"
     ]
    }
   ],
   "source": [
    "print(fruits[4])"
   ]
  },
  {
   "cell_type": "code",
   "execution_count": 4,
   "id": "8bf4033f-6e97-41b7-9a2a-40754a9605ac",
   "metadata": {},
   "outputs": [
    {
     "name": "stdout",
     "output_type": "stream",
     "text": [
      "peach\n"
     ]
    }
   ],
   "source": [
    "print(fruits[-2])"
   ]
  },
  {
   "cell_type": "code",
   "execution_count": 5,
   "id": "d2528290-286a-4ee7-a23b-e5e0e233195b",
   "metadata": {},
   "outputs": [
    {
     "name": "stdout",
     "output_type": "stream",
     "text": [
      "['cherry', 'bananas']\n"
     ]
    }
   ],
   "source": [
    "print(fruits[1:3])"
   ]
  },
  {
   "cell_type": "code",
   "execution_count": 6,
   "id": "df670320-e3b2-425a-8d70-74377ce8fc61",
   "metadata": {},
   "outputs": [
    {
     "name": "stdout",
     "output_type": "stream",
     "text": [
      "['bananas', 'oranges', 'peach']\n"
     ]
    }
   ],
   "source": [
    "#negative index counts backwards in the list\n",
    "print(fruits[-4:-1])"
   ]
  },
  {
   "cell_type": "code",
   "execution_count": 7,
   "id": "9a4d921a-a104-46d6-8c69-1e0932f14030",
   "metadata": {},
   "outputs": [
    {
     "name": "stdout",
     "output_type": "stream",
     "text": [
      "6\n"
     ]
    }
   ],
   "source": [
    "print(len(fruits))"
   ]
  },
  {
   "cell_type": "code",
   "execution_count": 8,
   "id": "6b7866b0-78e3-4714-acf8-52c3c65c4633",
   "metadata": {},
   "outputs": [
    {
     "name": "stdout",
     "output_type": "stream",
     "text": [
      "['apple', 'cherry', 'bananas', 'oranges', 'peach', 'grape']\n"
     ]
    }
   ],
   "source": [
    "#will print up to the max, if just print(fruits[9])) you will get out of bounds error\n",
    "print(fruits[0:9])"
   ]
  },
  {
   "cell_type": "code",
   "execution_count": 9,
   "id": "621e7f1c-7d91-4e3d-968e-ed6aeadb40cd",
   "metadata": {},
   "outputs": [
    {
     "name": "stdout",
     "output_type": "stream",
     "text": [
      "['grape', 'peach', 'oranges', 'bananas', 'cherry', 'apple']\n"
     ]
    }
   ],
   "source": [
    "print(fruits[::-1])"
   ]
  },
  {
   "cell_type": "code",
   "execution_count": 10,
   "id": "71a0f2b6-a1e1-42a0-ac50-19b974be9caf",
   "metadata": {},
   "outputs": [
    {
     "data": {
      "text/plain": [
       "'cherry'"
      ]
     },
     "execution_count": 10,
     "metadata": {},
     "output_type": "execute_result"
    }
   ],
   "source": [
    "fruits[1]"
   ]
  },
  {
   "cell_type": "code",
   "execution_count": 11,
   "id": "53920f2e-435e-4760-92cd-c44b91ea9597",
   "metadata": {},
   "outputs": [],
   "source": [
    "fruits[1] = 'pineapples'"
   ]
  },
  {
   "cell_type": "code",
   "execution_count": 12,
   "id": "4139dbeb-5445-43ce-9811-83264602ef25",
   "metadata": {},
   "outputs": [
    {
     "name": "stdout",
     "output_type": "stream",
     "text": [
      "['apple', 'pineapples', 'bananas', 'oranges', 'peach', 'grape']\n"
     ]
    }
   ],
   "source": [
    "print(fruits)"
   ]
  },
  {
   "cell_type": "code",
   "execution_count": 13,
   "id": "dc6e7ca4-2c95-49c8-ac6f-500c1aa02437",
   "metadata": {},
   "outputs": [],
   "source": [
    "fruits.insert(3, 'kiwi')"
   ]
  },
  {
   "cell_type": "code",
   "execution_count": 14,
   "id": "265a2b50-4874-48a7-90e2-2faee47f8230",
   "metadata": {},
   "outputs": [
    {
     "data": {
      "text/plain": [
       "['apple', 'pineapples', 'bananas', 'kiwi', 'oranges', 'peach', 'grape']"
      ]
     },
     "execution_count": 14,
     "metadata": {},
     "output_type": "execute_result"
    }
   ],
   "source": [
    "fruits"
   ]
  },
  {
   "cell_type": "code",
   "execution_count": 15,
   "id": "a657de04-fa8c-428f-a523-aa08e4205d1d",
   "metadata": {},
   "outputs": [],
   "source": [
    "fruits.append('durian')"
   ]
  },
  {
   "cell_type": "code",
   "execution_count": 16,
   "id": "564c3d26-5064-49a4-abe9-ed728706b88a",
   "metadata": {},
   "outputs": [
    {
     "data": {
      "text/plain": [
       "['apple',\n",
       " 'pineapples',\n",
       " 'bananas',\n",
       " 'kiwi',\n",
       " 'oranges',\n",
       " 'peach',\n",
       " 'grape',\n",
       " 'durian']"
      ]
     },
     "execution_count": 16,
     "metadata": {},
     "output_type": "execute_result"
    }
   ],
   "source": [
    "fruits"
   ]
  },
  {
   "cell_type": "code",
   "execution_count": 18,
   "id": "bfdb3933-faf5-4305-8012-4a2f4d410fbe",
   "metadata": {},
   "outputs": [],
   "source": [
    "tropical = ['papaya', 'lemon']\n",
    "fruits.extend(tropical)"
   ]
  },
  {
   "cell_type": "code",
   "execution_count": 19,
   "id": "4938c56f-e71c-4eb0-9c06-9ea65637a468",
   "metadata": {},
   "outputs": [
    {
     "data": {
      "text/plain": [
       "['apple',\n",
       " 'pineapples',\n",
       " 'bananas',\n",
       " 'kiwi',\n",
       " 'oranges',\n",
       " 'peach',\n",
       " 'grape',\n",
       " 'durian',\n",
       " 'papaya',\n",
       " 'lemon']"
      ]
     },
     "execution_count": 19,
     "metadata": {},
     "output_type": "execute_result"
    }
   ],
   "source": [
    "fruits"
   ]
  },
  {
   "cell_type": "code",
   "execution_count": 20,
   "id": "624e01b8-1982-4f52-92fb-8e5b4033a721",
   "metadata": {},
   "outputs": [],
   "source": [
    "fruits = ['apple',\n",
    " 'pineapples',\n",
    " 'bananas',\n",
    " 'kiwi',\n",
    " 'oranges',\n",
    " 'peach',\n",
    " 'grape',\n",
    " 'durian']"
   ]
  },
  {
   "cell_type": "code",
   "execution_count": 21,
   "id": "77c88947-ec2d-476c-ab4e-e39cf4a92bff",
   "metadata": {},
   "outputs": [
    {
     "data": {
      "text/plain": [
       "['apple',\n",
       " 'pineapples',\n",
       " 'bananas',\n",
       " 'kiwi',\n",
       " 'oranges',\n",
       " 'peach',\n",
       " 'grape',\n",
       " 'durian']"
      ]
     },
     "execution_count": 21,
     "metadata": {},
     "output_type": "execute_result"
    }
   ],
   "source": [
    "fruits"
   ]
  },
  {
   "cell_type": "code",
   "execution_count": 22,
   "id": "ade0352f-b6bc-43cf-8b23-00c8171c9c1b",
   "metadata": {},
   "outputs": [],
   "source": [
    "tropical += fruits"
   ]
  },
  {
   "cell_type": "code",
   "execution_count": 23,
   "id": "b8900567-7d8b-474a-a613-f8e4cb4efb6c",
   "metadata": {},
   "outputs": [
    {
     "data": {
      "text/plain": [
       "['papaya',\n",
       " 'lemon',\n",
       " 'apple',\n",
       " 'pineapples',\n",
       " 'bananas',\n",
       " 'kiwi',\n",
       " 'oranges',\n",
       " 'peach',\n",
       " 'grape',\n",
       " 'durian']"
      ]
     },
     "execution_count": 23,
     "metadata": {},
     "output_type": "execute_result"
    }
   ],
   "source": [
    "tropical"
   ]
  },
  {
   "cell_type": "code",
   "execution_count": 25,
   "id": "f5ad9ad8-1791-4af4-994a-74b80c83843f",
   "metadata": {},
   "outputs": [],
   "source": [
    "fruits.remove('bananas')"
   ]
  },
  {
   "cell_type": "code",
   "execution_count": 26,
   "id": "c1aba434-267c-43cb-85f5-a464c5013974",
   "metadata": {},
   "outputs": [
    {
     "data": {
      "text/plain": [
       "['apple', 'pineapples', 'kiwi', 'oranges', 'peach', 'grape', 'durian']"
      ]
     },
     "execution_count": 26,
     "metadata": {},
     "output_type": "execute_result"
    }
   ],
   "source": [
    "fruits"
   ]
  },
  {
   "cell_type": "code",
   "execution_count": 27,
   "id": "e239f5b9-8b87-40aa-a5f2-b530677fefe4",
   "metadata": {},
   "outputs": [
    {
     "data": {
      "text/plain": [
       "'durian'"
      ]
     },
     "execution_count": 27,
     "metadata": {},
     "output_type": "execute_result"
    }
   ],
   "source": [
    "fruits.pop()"
   ]
  },
  {
   "cell_type": "code",
   "execution_count": 28,
   "id": "b6afa855-dd5f-4ac0-968b-cbd2797a4b8f",
   "metadata": {},
   "outputs": [
    {
     "data": {
      "text/plain": [
       "['apple', 'pineapples', 'kiwi', 'oranges', 'peach', 'grape']"
      ]
     },
     "execution_count": 28,
     "metadata": {},
     "output_type": "execute_result"
    }
   ],
   "source": [
    "fruits"
   ]
  },
  {
   "cell_type": "code",
   "execution_count": 29,
   "id": "e034f7ec-c2da-460a-9448-c1ef30bb9fc7",
   "metadata": {},
   "outputs": [
    {
     "data": {
      "text/plain": [
       "'pineapples'"
      ]
     },
     "execution_count": 29,
     "metadata": {},
     "output_type": "execute_result"
    }
   ],
   "source": [
    "fruits.pop(1)"
   ]
  },
  {
   "cell_type": "code",
   "execution_count": 30,
   "id": "35600506-0362-40d0-ba8a-88e7a9b4abef",
   "metadata": {},
   "outputs": [
    {
     "data": {
      "text/plain": [
       "['apple', 'kiwi', 'oranges', 'peach', 'grape']"
      ]
     },
     "execution_count": 30,
     "metadata": {},
     "output_type": "execute_result"
    }
   ],
   "source": [
    "fruits"
   ]
  },
  {
   "cell_type": "code",
   "execution_count": 31,
   "id": "a3a90957-a26c-4f97-8663-ad40bf0061bf",
   "metadata": {},
   "outputs": [],
   "source": [
    "fruits = ['apple', 'cherry', 'banana']"
   ]
  },
  {
   "cell_type": "code",
   "execution_count": 37,
   "id": "0905c07b-c158-47ac-bb9d-a3ff762157d3",
   "metadata": {},
   "outputs": [
    {
     "name": "stdout",
     "output_type": "stream",
     "text": [
      "Apple\n",
      "Cherry\n",
      "Banana\n"
     ]
    }
   ],
   "source": [
    "for fruit in fruits:\n",
    "    print(fruit.title())"
   ]
  },
  {
   "cell_type": "code",
   "execution_count": 40,
   "id": "2e61e7ec-f153-4a91-99c6-e119996e6cc1",
   "metadata": {},
   "outputs": [],
   "source": [
    "#called masking when inside [] to manipulate\n",
    "capitale_fruits = [fruit.title() for fruit in fruits]"
   ]
  },
  {
   "cell_type": "code",
   "execution_count": 41,
   "id": "292f74ba-3d34-491a-aa3c-eac50b537d44",
   "metadata": {},
   "outputs": [
    {
     "data": {
      "text/plain": [
       "['Apple', 'Cherry', 'Banana']"
      ]
     },
     "execution_count": 41,
     "metadata": {},
     "output_type": "execute_result"
    }
   ],
   "source": [
    "capitale_fruits"
   ]
  },
  {
   "cell_type": "code",
   "execution_count": 42,
   "id": "8d1b0d44-ab0b-420d-9cca-cf52c0eea563",
   "metadata": {},
   "outputs": [
    {
     "name": "stdout",
     "output_type": "stream",
     "text": [
      "['apple', 'banana']\n"
     ]
    }
   ],
   "source": [
    "a_fruits = [fruit for fruit in fruits if 'a' in fruit]\n",
    "print(a_fruits)"
   ]
  },
  {
   "cell_type": "code",
   "execution_count": 43,
   "id": "09525860-4bea-4189-8c59-73ab75e758bd",
   "metadata": {},
   "outputs": [
    {
     "name": "stdout",
     "output_type": "stream",
     "text": [
      "['apple', 'cherry', 'banana']\n"
     ]
    }
   ],
   "source": [
    "fruits2 = fruits\n",
    "print(fruits2)"
   ]
  },
  {
   "cell_type": "code",
   "execution_count": 44,
   "id": "ad85ac34-f944-40b0-8caf-dcf0614aada4",
   "metadata": {},
   "outputs": [],
   "source": [
    "fruits.append('kiwi')"
   ]
  },
  {
   "cell_type": "code",
   "execution_count": 46,
   "id": "19a60ada-8148-41be-a21f-a6b2fe8310cd",
   "metadata": {},
   "outputs": [
    {
     "data": {
      "text/plain": [
       "['apple', 'cherry', 'banana', 'kiwi']"
      ]
     },
     "execution_count": 46,
     "metadata": {},
     "output_type": "execute_result"
    }
   ],
   "source": [
    "fruits"
   ]
  },
  {
   "cell_type": "code",
   "execution_count": 47,
   "id": "3465e6c2-7546-4e05-a633-5b50d5d4461c",
   "metadata": {},
   "outputs": [
    {
     "data": {
      "text/plain": [
       "['apple', 'cherry', 'banana', 'kiwi']"
      ]
     },
     "execution_count": 47,
     "metadata": {},
     "output_type": "execute_result"
    }
   ],
   "source": [
    "fruits2"
   ]
  },
  {
   "cell_type": "code",
   "execution_count": 48,
   "id": "9cd0162e-2193-4ba3-8262-022a97c50028",
   "metadata": {},
   "outputs": [],
   "source": [
    "#fruits 2 changes, this will make a list that wont change\n",
    "fruits3 = fruits.copy()"
   ]
  },
  {
   "cell_type": "code",
   "execution_count": 49,
   "id": "261d641d-296d-4404-9589-1d0b2d616a15",
   "metadata": {},
   "outputs": [
    {
     "data": {
      "text/plain": [
       "['apple', 'cherry', 'banana', 'kiwi']"
      ]
     },
     "execution_count": 49,
     "metadata": {},
     "output_type": "execute_result"
    }
   ],
   "source": [
    "fruits3"
   ]
  },
  {
   "cell_type": "code",
   "execution_count": 51,
   "id": "ff1dcc0d-5ac4-4370-a52b-616d1f273eb3",
   "metadata": {},
   "outputs": [],
   "source": [
    "fruits.append('lemon')"
   ]
  },
  {
   "cell_type": "code",
   "execution_count": 52,
   "id": "ca5a436d-d753-4154-b042-392b63d8e751",
   "metadata": {},
   "outputs": [
    {
     "data": {
      "text/plain": [
       "['apple', 'cherry', 'banana', 'kiwi', 'lemon']"
      ]
     },
     "execution_count": 52,
     "metadata": {},
     "output_type": "execute_result"
    }
   ],
   "source": [
    "fruits"
   ]
  },
  {
   "cell_type": "code",
   "execution_count": 53,
   "id": "c920f810-cb24-4172-9ba5-a0d823d1e7b2",
   "metadata": {},
   "outputs": [
    {
     "data": {
      "text/plain": [
       "['apple', 'cherry', 'banana', 'kiwi', 'lemon']"
      ]
     },
     "execution_count": 53,
     "metadata": {},
     "output_type": "execute_result"
    }
   ],
   "source": [
    "fruits2"
   ]
  },
  {
   "cell_type": "code",
   "execution_count": 54,
   "id": "3d643ae1-9f91-4b9a-9ed2-8610b218c593",
   "metadata": {},
   "outputs": [
    {
     "data": {
      "text/plain": [
       "['apple', 'cherry', 'banana', 'kiwi']"
      ]
     },
     "execution_count": 54,
     "metadata": {},
     "output_type": "execute_result"
    }
   ],
   "source": [
    "fruits3"
   ]
  },
  {
   "cell_type": "code",
   "execution_count": null,
   "id": "0a166f93-b257-4f93-b6d2-08951b6352ff",
   "metadata": {},
   "outputs": [],
   "source": []
  }
 ],
 "metadata": {
  "kernelspec": {
   "display_name": "Python 3 (ipykernel)",
   "language": "python",
   "name": "python3"
  },
  "language_info": {
   "codemirror_mode": {
    "name": "ipython",
    "version": 3
   },
   "file_extension": ".py",
   "mimetype": "text/x-python",
   "name": "python",
   "nbconvert_exporter": "python",
   "pygments_lexer": "ipython3",
   "version": "3.12.4"
  }
 },
 "nbformat": 4,
 "nbformat_minor": 5
}
