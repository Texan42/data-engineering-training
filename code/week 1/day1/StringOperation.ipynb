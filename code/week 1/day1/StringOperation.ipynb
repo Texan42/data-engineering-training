{
 "cells": [
  {
   "cell_type": "code",
   "execution_count": 2,
   "id": "04a3e25a-aa10-423b-9bab-7ed617a7668c",
   "metadata": {},
   "outputs": [],
   "source": [
    "# multiple Lines\n",
    "ml = \"\"\"\n",
    "This string will\n",
    "still work even\n",
    "on multiple lines\n",
    "\"\"\""
   ]
  },
  {
   "cell_type": "code",
   "execution_count": 3,
   "id": "ddb3714f-2731-4745-80c9-adc8b1be4bea",
   "metadata": {},
   "outputs": [
    {
     "name": "stdout",
     "output_type": "stream",
     "text": [
      "\n",
      "This string will\n",
      "still work even\n",
      "on multiple lines\n",
      "\n"
     ]
    }
   ],
   "source": [
    "print(ml)"
   ]
  },
  {
   "cell_type": "code",
   "execution_count": 4,
   "id": "d55d1bdc-727c-4e92-a257-0f0969a5e152",
   "metadata": {},
   "outputs": [
    {
     "name": "stdout",
     "output_type": "stream",
     "text": [
      "Hello\n"
     ]
    }
   ],
   "source": [
    "print('Hello')"
   ]
  },
  {
   "cell_type": "code",
   "execution_count": 5,
   "id": "004204fd-584f-4127-9764-65515b010805",
   "metadata": {},
   "outputs": [],
   "source": [
    "#strings are indexed\n",
    "a = 'string'"
   ]
  },
  {
   "cell_type": "code",
   "execution_count": 6,
   "id": "4a5e6d6c-5e0d-4f9f-a06c-02806d453a1f",
   "metadata": {},
   "outputs": [
    {
     "data": {
      "text/plain": [
       "'i'"
      ]
     },
     "execution_count": 6,
     "metadata": {},
     "output_type": "execute_result"
    }
   ],
   "source": [
    "a[3]"
   ]
  },
  {
   "cell_type": "code",
   "execution_count": 7,
   "id": "73d21f23-0bf5-4273-9597-4e271b782441",
   "metadata": {},
   "outputs": [
    {
     "name": "stdout",
     "output_type": "stream",
     "text": [
      "h\n",
      "i\n",
      "p\n",
      "p\n",
      "o\n",
      "p\n",
      "o\n",
      "t\n",
      "a\n",
      "m\n",
      "u\n",
      "s\n"
     ]
    }
   ],
   "source": [
    "for x in 'hippopotamus':\n",
    "    print(x)"
   ]
  },
  {
   "cell_type": "code",
   "execution_count": 8,
   "id": "3527c999-8f27-4631-8148-da27d0f4a23b",
   "metadata": {},
   "outputs": [
    {
     "name": "stdout",
     "output_type": "stream",
     "text": [
      "H\n",
      "I\n",
      "P\n",
      "P\n",
      "O\n",
      "P\n",
      "O\n",
      "T\n",
      "A\n",
      "M\n",
      "U\n",
      "S\n"
     ]
    }
   ],
   "source": [
    "for x in 'hippopotamus':\n",
    "    print(x.upper())"
   ]
  },
  {
   "cell_type": "code",
   "execution_count": 9,
   "id": "974914be-9fd7-4fb1-a2ac-6a0f79819171",
   "metadata": {},
   "outputs": [
    {
     "name": "stdout",
     "output_type": "stream",
     "text": [
      "5\n"
     ]
    }
   ],
   "source": [
    "print(len('hippo'))"
   ]
  },
  {
   "cell_type": "code",
   "execution_count": 10,
   "id": "497f9886-9307-4bdd-9553-3c236d26b67e",
   "metadata": {},
   "outputs": [
    {
     "name": "stdout",
     "output_type": "stream",
     "text": [
      "This Is A String!\n"
     ]
    }
   ],
   "source": [
    "b = 'This is a string!'\n",
    "print(b.title())"
   ]
  },
  {
   "cell_type": "code",
   "execution_count": 11,
   "id": "6598a17c-9896-4dcf-bfbf-3a4fb472427a",
   "metadata": {},
   "outputs": [
    {
     "name": "stdout",
     "output_type": "stream",
     "text": [
      "This is a sentence!\n"
     ]
    }
   ],
   "source": [
    "print(b.replace('string', 'sentence'))"
   ]
  },
  {
   "cell_type": "code",
   "execution_count": 12,
   "id": "6c598334-7892-4f46-9671-dca03aa0e0d9",
   "metadata": {},
   "outputs": [
    {
     "name": "stdout",
     "output_type": "stream",
     "text": [
      "          This is a messy string\n"
     ]
    }
   ],
   "source": [
    "c='          This is a messy string'\n",
    "print(c)"
   ]
  },
  {
   "cell_type": "code",
   "execution_count": 13,
   "id": "647b7b40-5c2d-487f-90c7-9dbde9b216fd",
   "metadata": {},
   "outputs": [
    {
     "name": "stdout",
     "output_type": "stream",
     "text": [
      "This is a messy string\n"
     ]
    }
   ],
   "source": [
    "print(c.strip())"
   ]
  },
  {
   "cell_type": "code",
   "execution_count": 14,
   "id": "c6b3c477-dcc7-443d-a5bb-66d053f44a21",
   "metadata": {},
   "outputs": [
    {
     "name": "stdout",
     "output_type": "stream",
     "text": [
      "banana\n"
     ]
    }
   ],
   "source": [
    "d=',,,,,,rrttgg....banana.....rrrr'\n",
    "print(d.strip(',.grt'))"
   ]
  },
  {
   "cell_type": "code",
   "execution_count": 15,
   "id": "59fcc203-264d-46e6-b7c5-0da2eb720ed1",
   "metadata": {},
   "outputs": [
    {
     "name": "stdout",
     "output_type": "stream",
     "text": [
      "This is a messy string\n"
     ]
    }
   ],
   "source": [
    "words = c.strip()\n",
    "print(words)"
   ]
  },
  {
   "cell_type": "code",
   "execution_count": 16,
   "id": "8e756916-cb2f-40e6-8c14-c6084663fbc8",
   "metadata": {},
   "outputs": [
    {
     "data": {
      "text/plain": [
       "['This', 'is', 'a', 'messy', 'string']"
      ]
     },
     "execution_count": 16,
     "metadata": {},
     "output_type": "execute_result"
    }
   ],
   "source": [
    "words.split(' ')"
   ]
  },
  {
   "cell_type": "code",
   "execution_count": 17,
   "id": "ac14ab81-d045-4073-a0ca-f93fb1b66b58",
   "metadata": {},
   "outputs": [],
   "source": [
    "words = c.strip(' .').split(' ')"
   ]
  },
  {
   "cell_type": "code",
   "execution_count": 18,
   "id": "a3591edf-e5e1-479d-a8d1-b5f868f07835",
   "metadata": {},
   "outputs": [
    {
     "name": "stdout",
     "output_type": "stream",
     "text": [
      "['This', 'is', 'a', 'messy', 'string']\n"
     ]
    }
   ],
   "source": [
    "print(words)"
   ]
  },
  {
   "cell_type": "code",
   "execution_count": 19,
   "id": "134852a4-c236-4bf9-b461-57a60882a67f",
   "metadata": {},
   "outputs": [
    {
     "name": "stdout",
     "output_type": "stream",
     "text": [
      "hello world\n"
     ]
    }
   ],
   "source": [
    "one = 'hello'\n",
    "two = 'world'\n",
    "print(one + ' ' + two)"
   ]
  },
  {
   "cell_type": "code",
   "execution_count": 20,
   "id": "038ee6e6-7198-4586-8136-a617332a4785",
   "metadata": {},
   "outputs": [
    {
     "name": "stdout",
     "output_type": "stream",
     "text": [
      "There's no issue here \n"
     ]
    }
   ],
   "source": [
    "text = 'There\\'s no issue here '\n",
    "print(text)"
   ]
  },
  {
   "cell_type": "code",
   "execution_count": 21,
   "id": "b786735c-668d-4d61-9f56-e01cc8ea7b3b",
   "metadata": {},
   "outputs": [
    {
     "name": "stdout",
     "output_type": "stream",
     "text": [
      "my name is sam henderson\n"
     ]
    }
   ],
   "source": [
    "first = 'sam'\n",
    "last = 'henderson'\n",
    "text = 'my name is {0} {1}'\n",
    "print(text.format(first, last))"
   ]
  },
  {
   "cell_type": "code",
   "execution_count": 22,
   "id": "c953d11b-fae2-45e7-9ec6-b324152bace7",
   "metadata": {},
   "outputs": [
    {
     "name": "stdout",
     "output_type": "stream",
     "text": [
      "My name is sam henderson\n"
     ]
    }
   ],
   "source": [
    "print(f'My name is {first} {last}')"
   ]
  },
  {
   "cell_type": "code",
   "execution_count": null,
   "id": "608dbba6-6c6d-46f8-8e3e-80ee5b4a0c20",
   "metadata": {},
   "outputs": [],
   "source": []
  }
 ],
 "metadata": {
  "kernelspec": {
   "display_name": "Python 3 (ipykernel)",
   "language": "python",
   "name": "python3"
  },
  "language_info": {
   "codemirror_mode": {
    "name": "ipython",
    "version": 3
   },
   "file_extension": ".py",
   "mimetype": "text/x-python",
   "name": "python",
   "nbconvert_exporter": "python",
   "pygments_lexer": "ipython3",
   "version": "3.12.4"
  }
 },
 "nbformat": 4,
 "nbformat_minor": 5
}
