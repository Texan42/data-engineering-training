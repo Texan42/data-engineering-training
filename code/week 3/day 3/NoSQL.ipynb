{
 "cells": [
  {
   "cell_type": "markdown",
   "metadata": {},
   "source": [
    "Graph Databases:\n",
    "- social media\n",
    "\n",
    "(person: Alice) - [Friend_of] - (person:bob)\n",
    "\n",
    "friend_of : edge / relationship\n",
    "alice and bob : nodes\n",
    "\n",
    "(person: Alice) - [purchased] - (product:laptop)"
   ]
  },
  {
   "cell_type": "markdown",
   "metadata": {},
   "source": []
  },
  {
   "cell_type": "markdown",
   "metadata": {},
   "source": [
    "Key Value Databases:"
   ]
  },
  {
   "cell_type": "markdown",
   "metadata": {},
   "source": [
    "\"User: 1001\" => {name:alice, age:30 ,email: alice@gmail.com}\n",
    "\n",
    "Not nested\n",
    "if nested- use document db instead"
   ]
  },
  {
   "cell_type": "markdown",
   "metadata": {},
   "source": [
    "Column family database:\n",
    "- easier to query than relational database\n",
    "- in a relational database- we would have 4 different tables that we need to join AND we don't have a primary key here\n",
    "- (see video for database reference)"
   ]
  },
  {
   "cell_type": "markdown",
   "metadata": {},
   "source": [
    "Document Database:"
   ]
  },
  {
   "cell_type": "markdown",
   "metadata": {},
   "source": [
    "MongoDB:\n",
    "#nested Key-value pairs\n",
    "{\n",
    "    'employee_id': 123\n",
    "    'first_name: bob\n",
    "    'address': {\n",
    "        street: street,\n",
    "        city: city\n",
    "    }\n",
    "}"
   ]
  },
  {
   "cell_type": "markdown",
   "metadata": {},
   "source": [
    "catch up in vid"
   ]
  },
  {
   "cell_type": "markdown",
   "metadata": {},
   "source": [
    "##Create an index for authors database\n",
    "\n",
    "#single field index\n",
    "- db.authors.createIndex(['author': 1])\n",
    "\n",
    "#multiple field index\n",
    "- db.author.createIndex({'author': 1, 'publication_year': -1})\n",
    "\n",
    "#create index using text field\n",
    "#we want to query a string/description\n",
    "- db.books.createIndex({'description': 'text'})"
   ]
  },
  {
   "cell_type": "markdown",
   "metadata": {},
   "source": [
    "##aggregate a document database\n",
    "\n",
    "db.books.aggregate([\n",
    "    { $group: {_id: '$author': totalbooks: {$sum:1}}}\n",
    "    { $sort: { totalbooks: -1 }}\n",
    "])\n",
    "\n",
    "#$group - group the document in books by the author (group by in python)\n",
    "#$sort - total books, -1 descending. (sort the values in python)"
   ]
  },
  {
   "cell_type": "markdown",
   "metadata": {},
   "source": []
  }
 ],
 "metadata": {
  "language_info": {
   "name": "python"
  }
 },
 "nbformat": 4,
 "nbformat_minor": 2
}
