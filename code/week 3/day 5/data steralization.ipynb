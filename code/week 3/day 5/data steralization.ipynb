{
 "cells": [
  {
   "cell_type": "markdown",
   "metadata": {},
   "source": [
    "Steralization of data:\n",
    "- process of converting in memory data structures into a stream of byters\n",
    "- makes it easier to transmit or persist (save)\n",
    "\n",
    "different types of data:\n",
    "- structured: SQL, tabular format, enforced schema, datatypes already known\n",
    "- semi-structured: json, documentDBs, changeable (schema and datatypes )\n",
    "\n",
    "catch up in vid"
   ]
  },
  {
   "cell_type": "markdown",
   "metadata": {},
   "source": []
  }
 ],
 "metadata": {
  "language_info": {
   "name": "python"
  }
 },
 "nbformat": 4,
 "nbformat_minor": 2
}
